{
 "cells": [
  {
   "cell_type": "code",
   "execution_count": 3,
   "metadata": {},
   "outputs": [],
   "source": [
    "import tensorflow as tf\n",
    "import numpy as np\n",
    "import DifferentiableHOS as DHOS\n",
    "import flowpm\n",
    "import flowpm.tfpower as tfpower\n",
    "import flowpm.scipy.interpolate as interpolate\n",
    "import flowpm.raytracing as raytracing\n",
    "import pickle\n",
    "from flowpm.tfpower import linear_matter_power\n",
    "import astropy.units as u\n",
    "import tensorflow_addons as tfa\n",
    "import flowpm.constants as constants\n",
    "from itertools import cycle\n",
    "import jax\n",
    "import jax_cosmo as jc"
   ]
  },
  {
   "cell_type": "code",
   "execution_count": 2,
   "metadata": {},
   "outputs": [],
   "source": [
    "n_lens = 22       # Number of lensplanes in the lightcone\n",
    "box_size=100.     # Transverse comoving size of the simulation volume\n",
    "nc = 64       # Number of transverse voxels in the simulation volume\n",
    "field_size = 5.   # Size of the lensing field in degrees\n",
    "field_npix =512 #1024  # Number of pixels in the lensing field\n",
    "batch_size = 1    # Number of simulations to run in parallel\n",
    "Omega_c=0.2589\n",
    "sigma8=0.8159\n"
   ]
  },
  {
   "cell_type": "code",
   "execution_count": 42,
   "metadata": {},
   "outputs": [],
   "source": [
    "@tf.function\n",
    "def compute_kappa(Omega_c,sigma8):\n",
    "    \"\"\" Computes a convergence map using ray-tracing through an N-body for a given\n",
    "    set of cosmological parameters\n",
    "    \"\"\"\n",
    "    # Instantiates a cosmology with desired parameters\n",
    "    cosmology = flowpm.cosmology.Planck15(Omega_c=Omega_c,sigma8=sigma8)\n",
    "\n",
    "    # Schedule the center of the lensplanes we want for ray tracing\n",
    "    r = tf.linspace(0., box_size*n_lens, n_lens+1)\n",
    "    r_center = 0.5*(r[1:] + r[:-1])\n",
    "\n",
    "    # Retrieve the scale factor corresponding to these distances\n",
    "    a = flowpm.tfbackground.a_of_chi(cosmology, r)\n",
    "    a_center =flowpm.tfbackground.a_of_chi(cosmology, r_center)\n",
    "    \n",
    "    # We run 4 steps from initial scale factor to start of raytracing\n",
    "    init_stages = tf.linspace(0.1, a[-1], 4)\n",
    "    # Then one step per lens plane\n",
    "    stages = tf.concat([init_stages, a_center[::-1]], axis=0)\n",
    "    \n",
    "    \n",
    "    k = tf.constant(np.logspace(-4, 1, 256), dtype=tf.float32)\n",
    "    pk = linear_matter_power(cosmology, k)\n",
    "    pk_fun = lambda x: tf.cast(tf.reshape(interpolate.interp_tf(tf.reshape(tf.cast(x, tf.float32), [-1]), k, pk), x.shape), tf.complex64)\n",
    "\n",
    "    initial_conditions = flowpm.linear_field([nc, nc, nc],\n",
    "                                         [box_size, box_size, box_size], \n",
    "                                         pk_fun,         \n",
    "                                         batch_size=batch_size)\n",
    "    initial_state = flowpm.lpt_init(cosmology, initial_conditions, 0.1)\n",
    "    \n",
    "    # Run the Nbody\n",
    "    states = flowpm.nbody(cosmology, \n",
    "                      initial_state, \n",
    "                      stages,\n",
    "                      [nc, nc, nc],\n",
    "                      return_intermediate_states=True) \n",
    "    \n",
    "    # Extract the lensplanes\n",
    "    lensplanes = []\n",
    "    matrix=flowpm.raytracing.rotation_matrices()\n",
    "    for i,j in zip(range(len(a_center)),cycle(range(6))):\n",
    "        plane = flowpm.raytracing.density_plane(states[::-1][i][1],\n",
    "                                            [nc, nc, nc],\n",
    "                                            nc//2, #r_center[i]/box_size*nc,\n",
    "                                            width=nc,\n",
    "                                            plane_resolution=256,\n",
    "                                            rotation=matrix[j],\n",
    "                                            shift=flowpm.raytracing.random_2d_shift(),\n",
    "                                            )\n",
    "        plane = tf.expand_dims(plane, axis=-1)\n",
    "        lensplanes.append((r_center[i], states[::-1][i][0], plane[...,0]))\n",
    "    xgrid, ygrid = np.meshgrid(np.linspace(0, field_size, field_npix, endpoint=False), # range of X coordinates\n",
    "                           np.linspace(0, field_size, field_npix, endpoint=False)) # range of Y coordinates\n",
    "\n",
    "    coords = np.stack([xgrid, ygrid], axis=0)*u.deg\n",
    "    c = coords.reshape([2, -1]).T.to(u.rad)\n",
    "    # Create array of source redshifts\n",
    "    z_source = tf.linspace(0.5, 1, 4)\n",
    "    m = flowpm.raytracing.convergenceBorn(cosmology, \n",
    "                    lensplanes, \n",
    "                    dx=box_size/256, \n",
    "                    dz=box_size,\n",
    "                    coords=c,\n",
    "                    z_source=z_source)\n",
    "   \n",
    "    m=tf.reshape(m,[batch_size, field_npix, field_npix, -1])\n",
    "    \n",
    "    return m,  lensplanes, r_center, a_center\n"
   ]
  },
  {
   "cell_type": "code",
   "execution_count": 44,
   "metadata": {},
   "outputs": [
    {
     "name": "stdout",
     "output_type": "stream",
     "text": [
      "WARNING:tensorflow:@custom_gradient grad_fn has 'variables' in signature, but no ResourceVariables were used on the forward pass.\n",
      "WARNING:tensorflow:@custom_gradient grad_fn has 'variables' in signature, but no ResourceVariables were used on the forward pass.\n",
      "WARNING:tensorflow:AutoGraph could not transform <bound method CompositeUnit.decompose of Unit(\"0.0174533 rad\")> and will run it as-is.\n",
      "Cause: for/else statement not yet supported\n",
      "To silence this warning, decorate the function with @tf.autograph.experimental.do_not_convert\n",
      "WARNING: AutoGraph could not transform <bound method CompositeUnit.decompose of Unit(\"0.0174533 rad\")> and will run it as-is.\n",
      "Cause: for/else statement not yet supported\n",
      "To silence this warning, decorate the function with @tf.autograph.experimental.do_not_convert\n",
      "WARNING:tensorflow:AutoGraph could not transform <bound method IrreducibleUnit.decompose of Unit(\"rad\")> and will run it as-is.\n",
      "Please report this to the TensorFlow team. When filing the bug, set the verbosity to 10 (on Linux, `export AUTOGRAPH_VERBOSITY=10`) and attach the full output.\n",
      "Cause: \n",
      "To silence this warning, decorate the function with @tf.autograph.experimental.do_not_convert\n",
      "WARNING: AutoGraph could not transform <bound method IrreducibleUnit.decompose of Unit(\"rad\")> and will run it as-is.\n",
      "Please report this to the TensorFlow team. When filing the bug, set the verbosity to 10 (on Linux, `export AUTOGRAPH_VERBOSITY=10`) and attach the full output.\n",
      "Cause: \n",
      "To silence this warning, decorate the function with @tf.autograph.experimental.do_not_convert\n"
     ]
    }
   ],
   "source": [
    "m,  lensplanes, r_center, a_center=compute_kappa(Omega_c,sigma8)"
   ]
  },
  {
   "cell_type": "code",
   "execution_count": 4,
   "metadata": {},
   "outputs": [],
   "source": [
    "def rebin(a, shape):\n",
    "    sh = shape[0],a.shape[0]//shape[0],shape[1],a.shape[1]//shape[1]\n",
    "    return tf.math.reduce_mean(tf.math.reduce_mean(tf.reshape(a,sh),axis=-1),axis=1)"
   ]
  },
  {
   "cell_type": "code",
   "execution_count": 77,
   "metadata": {},
   "outputs": [],
   "source": [
    "def rebin(a, shape):\n",
    "    sh = shape,a.shape[0]//shape\n",
    "    return tf.math.reduce_mean(tf.reshape(a,sh),axis=-1)"
   ]
  },
  {
   "cell_type": "code",
   "execution_count": 78,
   "metadata": {},
   "outputs": [],
   "source": [
    "@tf.function\n",
    "def compute_jacobian(Omega_c, sigma8):\n",
    "    \"\"\" Function that actually computes the Jacobian of a given statistics\n",
    "    \"\"\"\n",
    "    params = tf.stack([Omega_c, sigma8])\n",
    "    with tf.GradientTape() as tape:\n",
    "        tape.watch(params)\n",
    "        m, lensplanes, r_center, a_center = compute_kappa(params[0], params[1])\n",
    "        ell, power_spectrum= DHOS.statistics.power_spectrum(m[0,:,:,-1],field_size,\n",
    "                                                         field_npix)\n",
    "        \n",
    "        ell=rebin(ell,32)\n",
    "        power_spectrum=rebin(power_spectrum,32)\n",
    "        #power_spectrum=interpolate.interp_tf(tf.reshape(ell, [-1]), ell0,power_spectrum0)\n",
    "        \n",
    "        \n",
    "#         k1 =tf.where(ell < 2000 ,False, True)\n",
    "#         ell=tf.boolean_mask(ell, tf.math.logical_not(k1))\n",
    "#         power_spectrum =tf.boolean_mask(power_spectrum, tf.math.logical_not(k1))\n",
    "        \n",
    "    return m,lensplanes, r_center, a_center, tape.jacobian(power_spectrum, params,\n",
    "                             experimental_use_pfor=False), ell, power_spectrum\n"
   ]
  },
  {
   "cell_type": "code",
   "execution_count": null,
   "metadata": {},
   "outputs": [
    {
     "name": "stdout",
     "output_type": "stream",
     "text": [
      "WARNING:tensorflow:From /global/homes/d/dlan/.local/cori/3.8-anaconda-2020.11/lib/python3.8/site-packages/tensorflow_probability/python/math/ode/base.py:459: calling while_loop_v2 (from tensorflow.python.ops.control_flow_ops) with back_prop=False is deprecated and will be removed in a future version.\n",
      "Instructions for updating:\n",
      "back_prop=False is deprecated. Consider using tf.stop_gradient instead.\n",
      "Instead of:\n",
      "results = tf.while_loop(c, b, vars, back_prop=False)\n",
      "Use:\n",
      "results = tf.nest.map_structure(tf.stop_gradient, tf.while_loop(c, b, vars))\n",
      "WARNING:tensorflow:@custom_gradient grad_fn has 'variables' in signature, but no ResourceVariables were used on the forward pass.\n",
      "WARNING:tensorflow:@custom_gradient grad_fn has 'variables' in signature, but no ResourceVariables were used on the forward pass.\n"
     ]
    }
   ],
   "source": [
    " m,lensplanes, r_center, a_center,jac,ell,ps=compute_jacobian(Omega_c, sigma8)"
   ]
  },
  {
   "cell_type": "code",
   "execution_count": 8,
   "metadata": {},
   "outputs": [
    {
     "name": "stderr",
     "output_type": "stream",
     "text": [
      "WARNING:absl:No GPU/TPU found, falling back to CPU. (Set TF_CPP_MIN_LOG_LEVEL=0 and rerun for more info.)\n",
      "/Users/dl264294/.local/lib/python3.8/site-packages/jax/_src/lax/lax.py:6081: UserWarning: Explicitly requested dtype <class 'jax._src.numpy.lax_numpy.int64'> requested in astype is not available, and will be truncated to dtype int32. To enable more dtypes, set the jax_enable_x64 configuration option or the JAX_ENABLE_X64 shell environment variable. See https://github.com/google/jax#current-gotchas for more.\n",
      "  warnings.warn(msg.format(dtype, fun_name , truncated_dtype))\n"
     ]
    }
   ],
   "source": [
    "cosmo=jc.Planck15()\n",
    "nz =jc.redshift.delta_nz(1.)\n",
    "probes = [jc.probes.WeakLensing([nz])] \n",
    "cls = jc.angular_cl.angular_cl(cosmo, ell.numpy()[0], probes)\n",
    "mu, cov = jc.angular_cl.gaussian_cl_covariance_and_mean(cosmo, ell.numpy()[0], probes,f_sky=25/41252, sparse=True);"
   ]
  },
  {
   "cell_type": "code",
   "execution_count": 9,
   "metadata": {},
   "outputs": [],
   "source": [
    "def mean_fn(p):\n",
    "  cosmo = jc.Planck15(Omega_c=p[0], sigma8=p[1])\n",
    "  # Compute signal vector\n",
    "  m = jc.angular_cl.angular_cl(cosmo, ell.numpy()[0], probes)\n",
    "  return m.flatten()\n",
    "jac_mean = jax.jit(jax.jacfwd(mean_fn))\n",
    "params = np.array([cosmo.Omega_c, cosmo.sigma8]) \n",
    "dmu = jac_mean(params)"
   ]
  },
  {
   "cell_type": "code",
   "execution_count": 10,
   "metadata": {},
   "outputs": [],
   "source": [
    "F = jc.sparse.dot(dmu.T, jc.sparse.inv(cov), dmu)\n",
    "F1= jc.sparse.dot(jac.numpy().T, jc.sparse.inv(cov), jac.numpy())"
   ]
  },
  {
   "cell_type": "code",
   "execution_count": 11,
   "metadata": {},
   "outputs": [
    {
     "name": "stdout",
     "output_type": "stream",
     "text": [
      "Populating the interactive namespace from numpy and matplotlib\n"
     ]
    },
    {
     "name": "stderr",
     "output_type": "stream",
     "text": [
      "/Users/dl264294/.conda/envs/env_nbody/lib/python3.8/site-packages/IPython/core/magics/pylab.py:159: UserWarning: pylab import has clobbered these variables: ['cov']\n",
      "`%matplotlib` prevents importing * from pylab and numpy\n",
      "  warn(\"pylab import has clobbered these variables: %s\"  % clobbered +\n"
     ]
    },
    {
     "data": {
      "text/plain": [
       "<matplotlib.legend.Legend at 0x7fbd7d2c9a30>"
      ]
     },
     "execution_count": 11,
     "metadata": {},
     "output_type": "execute_result"
    },
    {
     "data": {
      "image/png": "[encoded data removed]",
      "text/plain": [
       "<Figure size 432x288 with 1 Axes>"
      ]
     },
     "metadata": {
      "needs_background": "light"
     },
     "output_type": "display_data"
    }
   ],
   "source": [
    "%pylab inline\n",
    "semilogx(ell[0],jac[:,0]/ps,label='$dC_\\ell/\\Omega_c$')\n",
    "semilogx(ell[0],jac[:,1]/ps,label='$dC_\\ell/\\sigma_8$')\n",
    "semilogx(ell[0],dmu[:,0]/cls[0],'--',label='$dC_\\ell/\\Omega_c$')\n",
    "semilogx(ell[0],dmu[:,1]/cls[0],'--',label='$dC_\\ell/\\sigma_8$')\n",
    "ylabel('J$_{norm}$')\n",
    "xlabel('$\\ell$')\n",
    "#xlim(0,3000)\n",
    "#savefig('momcomp6.png',dpi=80)\n",
    "legend()"
   ]
  },
  {
   "cell_type": "code",
   "execution_count": 14,
   "metadata": {},
   "outputs": [
    {
     "data": {
      "text/plain": [
       "<matplotlib.legend.Legend at 0x7fbd7d7e97c0>"
      ]
     },
     "execution_count": 14,
     "metadata": {},
     "output_type": "execute_result"
    },
    {
     "data": {
      "image/png": "[encoded data removed]",
      "text/plain": [
       "<Figure size 432x288 with 1 Axes>"
      ]
     },
     "metadata": {
      "needs_background": "light"
     },
     "output_type": "display_data"
    }
   ],
   "source": [
    "from DifferentiableHOS.Plot import plot_contours\n",
    "ax = plt.axes()\n",
    "#ax.set_facecolor('black')\n",
    "ax2=plot_contours(F1, params, fill=False,label='Differentiable Simulation', color='green', lw=2, linestyle='dashed');\n",
    "ax1=plot_contours(F, params, fill=False,label='Analytical Fisher',color='orange', lw=2,);\n",
    "#ax.tick_params(colors='white', which='both')\n",
    "xlabel('$\\Omega_m$')#,color='white')\n",
    "ylabel('$\\sigma_8$')#,color='white');\n",
    "title('Forecasted constraints on $\\Omega_m$ and $\\sigma_8$ from Power Spectrum ',color='white')\n",
    "plt.legend([ax1,ax2],['Analytical Fisher','Differentiable Simulation'])\n"
   ]
  },
  {
   "cell_type": "code",
   "execution_count": null,
   "metadata": {},
   "outputs": [],
   "source": []
  }
 ],
 "metadata": {
  "kernelspec": {
   "display_name": "tfpython",
   "language": "python",
   "name": "tfpython"
  },
  "language_info": {
   "codemirror_mode": {
    "name": "ipython",
    "version": 3
   },
   "file_extension": ".py",
   "mimetype": "text/x-python",
   "name": "python",
   "nbconvert_exporter": "python",
   "pygments_lexer": "ipython3",
   "version": "3.8.5"
  }
 },
 "nbformat": 4,
 "nbformat_minor": 4
}

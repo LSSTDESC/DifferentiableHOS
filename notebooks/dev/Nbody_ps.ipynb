{
 "cells": [
  {
   "cell_type": "code",
   "execution_count": 2,
   "metadata": {},
   "outputs": [
    {
     "name": "stdout",
     "output_type": "stream",
     "text": [
      "Populating the interactive namespace from numpy and matplotlib\n"
     ]
    }
   ],
   "source": [
    "%pylab inline \n",
    "%load_ext autoreload\n",
    "%autoreload 2\n",
    "import tensorflow as tf\n",
    "import flowpm\n",
    "import flowpm.tfpower as tfpower\n",
    "import flowpm.scipy.interpolate as interpolate\n",
    "from DifferentiableHOS.pk import pk as pkl\n",
    "import jax_cosmo.transfer as tklibimport \n",
    "import jax_cosmo as jc\n",
    "import jax.numpy as np\n",
    "import jax\n",
    "\n",
    "cosmo = jc.Planck15()"
   ]
  },
  {
   "cell_type": "code",
   "execution_count": 3,
   "metadata": {},
   "outputs": [],
   "source": [
    "nsteps=40\n",
    "nc=128\n",
    "box_size=128"
   ]
  },
  {
   "cell_type": "code",
   "execution_count": 4,
   "metadata": {},
   "outputs": [
    {
     "name": "stderr",
     "output_type": "stream",
     "text": [
      "WARNING:absl:No GPU/TPU found, falling back to CPU. (Set TF_CPP_MIN_LOG_LEVEL=0 and rerun for more info.)\n"
     ]
    },
    {
     "name": "stdout",
     "output_type": "stream",
     "text": [
      "WARNING:tensorflow:@custom_gradient grad_fn has 'variables' in signature, but no ResourceVariables were used on the forward pass.\n"
     ]
    },
    {
     "name": "stderr",
     "output_type": "stream",
     "text": [
      "WARNING:tensorflow:@custom_gradient grad_fn has 'variables' in signature, but no ResourceVariables were used on the forward pass.\n"
     ]
    }
   ],
   "source": [
    "cosmology = flowpm.cosmology.Planck15()\n",
    "stages = np.linspace(0.5, 1., nsteps, endpoint=True)\n",
    "# Compute linear matter power spectrum\n",
    "k = tf.constant(np.logspace(-4, 1, 256), dtype=tf.float32)\n",
    "pk = tfpower.linear_matter_power(cosmology, k)\n",
    "pk_fun = lambda x: tf.cast(tf.reshape(interpolate.interp_tf(tf.reshape(tf.cast(x, tf.float32), [-1]), k, pk), x.shape), tf.complex64)\n",
    "\n",
    "# And initial conditions\n",
    "initial_conditions = flowpm.linear_field([nc, nc, nc],\n",
    "                                       [box_size, box_size,\n",
    "                                      box_size],\n",
    "                                       pk_fun,\n",
    "                                       batch_size=1)\n",
    "\n",
    "state = flowpm.lpt_init(cosmology, initial_conditions, 0.5)\n",
    "\n",
    "\n",
    "# Evolve particles from initial state down to a=af\n",
    "final_state = flowpm.nbody(cosmology, state, stages, [nc, nc, nc])         \n",
    "\n",
    "# Retrieve final density field i.e interpolate the particles to the mesh\n",
    "final_field = flowpm.cic_paint(tf.zeros_like(initial_conditions), final_state[0])\n",
    "final_field=tf.reshape(final_field, [nc, nc, nc])\n"
   ]
  },
  {
   "cell_type": "code",
   "execution_count": 5,
   "metadata": {},
   "outputs": [],
   "source": [
    "k, power_spectrum = pkl(final_field,shape=final_field.shape,boxsize=np.array([box_size, box_size,\n",
    "                                           box_size]),kmin=0.01,dk=2*np.pi/box_size)\n"
   ]
  },
  {
   "cell_type": "code",
   "execution_count": 6,
   "metadata": {},
   "outputs": [
    {
     "name": "stderr",
     "output_type": "stream",
     "text": [
      "/Users/dl264294/.local/lib/python3.8/site-packages/jax/_src/lax/lax.py:6081: UserWarning: Explicitly requested dtype <class 'jax._src.numpy.lax_numpy.int64'> requested in astype is not available, and will be truncated to dtype int32. To enable more dtypes, set the jax_enable_x64 configuration option or the JAX_ENABLE_X64 shell environment variable. See https://github.com/google/jax#current-gotchas for more.\n",
      "  warnings.warn(msg.format(dtype, fun_name , truncated_dtype))\n"
     ]
    }
   ],
   "source": [
    "ps_jax_nonlinear=jc.power.nonlinear_matter_power(cosmo, k,a=1.0)\n",
    "ps_jax_linear=jc.power.linear_matter_power(cosmo, k,a=1.0)"
   ]
  },
  {
   "cell_type": "code",
   "execution_count": 7,
   "metadata": {},
   "outputs": [
    {
     "data": {
      "image/png": "[encoded data removed]",
      "text/plain": [
       "<Figure size 432x288 with 1 Axes>"
      ]
     },
     "metadata": {
      "needs_background": "light"
     },
     "output_type": "display_data"
    }
   ],
   "source": [
    "loglog(k,power_spectrum,label='Flowpm')\n",
    "loglog(k,ps_jax_nonlinear,label='jax_cosmo non linear')\n",
    "loglog(k,ps_jax_linear,label='jax_cosmo linear')\n",
    "\n",
    "xlabel('k [Mpc]')\n",
    "ylabel('pk');"
   ]
  },
  {
   "cell_type": "code",
   "execution_count": null,
   "metadata": {},
   "outputs": [],
   "source": []
  }
 ],
 "metadata": {
  "kernelspec": {
   "display_name": "Python 3",
   "language": "python",
   "name": "python3"
  },
  "language_info": {
   "codemirror_mode": {
    "name": "ipython",
    "version": 3
   },
   "file_extension": ".py",
   "mimetype": "text/x-python",
   "name": "python",
   "nbconvert_exporter": "python",
   "pygments_lexer": "ipython3",
   "version": "3.8.5"
  }
 },
 "nbformat": 4,
 "nbformat_minor": 4
}

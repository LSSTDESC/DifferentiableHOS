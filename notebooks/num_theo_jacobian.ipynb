{
 "cells": [
  {
   "cell_type": "code",
   "execution_count": 1,
   "metadata": {},
   "outputs": [
    {
     "name": "stdout",
     "output_type": "stream",
     "text": [
      "Populating the interactive namespace from numpy and matplotlib\n"
     ]
    }
   ],
   "source": [
    "%pylab inline \n",
    "%load_ext autoreload\n",
    "%autoreload 2\n",
    "import numdifftools as nd\n",
    "import tensorflow as tf\n",
    "import numpy as np\n",
    "import flowpm\n",
    "import flowpm.tfpower as tfpower\n",
    "import flowpm.scipy.interpolate as interpolate\n",
    "from DifferentiableHOS.pk import pk as pkl\n",
    "import pickle"
   ]
  },
  {
   "cell_type": "code",
   "execution_count": 2,
   "metadata": {},
   "outputs": [],
   "source": [
    "nsteps=10\n",
    "nc=32\n",
    "box_size=128\n",
    "Omega_c=0.2589\n",
    "sigma8=0.8159"
   ]
  },
  {
   "cell_type": "code",
   "execution_count": 3,
   "metadata": {},
   "outputs": [],
   "source": [
    "@tf.function\n",
    "def compute_Nbody_deriv(Omega_c, sigma8):\n",
    "    \"\"\" Computes a N-body simulation for a given\n",
    "    set of cosmological parameters\n",
    "    \"\"\"\n",
    "    # Instantiates a cosmology with desired parameters\n",
    "    cosmology = flowpm.cosmology.Planck15(Omega_c=Omega_c, sigma8=sigma8)\n",
    "    stages = np.linspace(0.1, 1., nsteps, endpoint=True)\n",
    "    # Compute linear matter power spectrum\n",
    "    k = tf.constant(np.logspace(-4, 1, 256), dtype=tf.float32)\n",
    "    pk = tfpower.linear_matter_power(cosmology, k)\n",
    "    pk_fun = lambda x: tf.cast(tf.reshape(interpolate.interp_tf(tf.reshape(tf.cast(x, tf.float32), [-1]), k, pk), x.shape), tf.complex64)\n",
    "\n",
    "    # And initial conditions\n",
    "    initial_conditions = flowpm.linear_field([nc, nc, nc],\n",
    "                                           [box_size, box_size,\n",
    "                                           box_size],\n",
    "                                           pk_fun,\n",
    "                                           batch_size=1)\n",
    "\n",
    "    state = flowpm.lpt_init(cosmology, initial_conditions, 0.1)\n",
    "\n",
    "\n",
    "    # Evolve particles from initial state down to a=af\n",
    "    final_state = flowpm.nbody(cosmology, state, stages, [nc, nc,  nc])         \n",
    "\n",
    "    # Retrieve final density field i.e interpolate the particles to the mesh\n",
    "    final_field = flowpm.cic_paint(tf.zeros_like(initial_conditions), final_state[0])\n",
    "    final_field=tf.reshape(final_field, [nc, nc, nc])\n",
    "    params = tf.stack([Omega_c, sigma8])\n",
    "    k, power_spectrum = pkl(final_field,shape=final_field.shape,boxsize=np.array([box_size, box_size,\n",
    "                                               box_size]),kmin=0.1,dk=2*np.pi/box_size)\n",
    "    #k1 =tf.where(k < 0.3 ,False, True)\n",
    "    #k=tf.boolean_mask(k, tf.math.logical_not(k1))\n",
    "    #power_spectrum =tf.boolean_mask(power_spectrum, tf.math.logical_not(k1))\n",
    "    return  power_spectrum\n"
   ]
  },
  {
   "cell_type": "code",
   "execution_count": 4,
   "metadata": {
    "scrolled": true
   },
   "outputs": [
    {
     "name": "stdout",
     "output_type": "stream",
     "text": [
      "WARNING:tensorflow:@custom_gradient grad_fn has 'variables' in signature, but no ResourceVariables were used on the forward pass.\n",
      "WARNING:tensorflow:From /Users/dl264294/.local/lib/python3.8/site-packages/tensorflow_probability/python/math/ode/base.py:459: calling while_loop_v2 (from tensorflow.python.ops.control_flow_ops) with back_prop=False is deprecated and will be removed in a future version.\n",
      "Instructions for updating:\n",
      "back_prop=False is deprecated. Consider using tf.stop_gradient instead.\n",
      "Instead of:\n",
      "results = tf.while_loop(c, b, vars, back_prop=False)\n",
      "Use:\n",
      "results = tf.nest.map_structure(tf.stop_gradient, tf.while_loop(c, b, vars))\n",
      "WARNING:tensorflow:@custom_gradient grad_fn has 'variables' in signature, but no ResourceVariables were used on the forward pass.\n",
      "WARNING:tensorflow:@custom_gradient grad_fn has 'variables' in signature, but no ResourceVariables were used on the forward pass.\n",
      "WARNING:tensorflow:@custom_gradient grad_fn has 'variables' in signature, but no ResourceVariables were used on the forward pass.\n"
     ]
    }
   ],
   "source": [
    "theoretical, numerical=tf.test.compute_gradient(\n",
    "    compute_Nbody_deriv, [0.2589,0.8159], delta=0.01\n",
    ")"
   ]
  },
  {
   "cell_type": "code",
   "execution_count": 5,
   "metadata": {},
   "outputs": [],
   "source": [
    "@tf.function\n",
    "def compute_Nbody(Omega_c, sigma8):\n",
    "  \"\"\" Computes a N-body simulation for a given\n",
    "  set of cosmological parameters\n",
    "  \"\"\"\n",
    "  # Instantiates a cosmology with desired parameters\n",
    "  cosmology = flowpm.cosmology.Planck15(Omega_c=Omega_c, sigma8=sigma8)\n",
    "  stages = np.linspace(0.1, 1., nsteps, endpoint=True)\n",
    "  # Compute linear matter power spectrum\n",
    "  k = tf.constant(np.logspace(-4, 1, 256), dtype=tf.float32)\n",
    "  pk = tfpower.linear_matter_power(cosmology, k)\n",
    "  pk_fun = lambda x: tf.cast(tf.reshape(interpolate.interp_tf(tf.reshape(tf.cast(x, tf.float32), [-1]), k, pk), x.shape), tf.complex64)\n",
    "\n",
    "  # And initial conditions\n",
    "  initial_conditions = flowpm.linear_field([nc, nc, nc],\n",
    "                                           [box_size, box_size,\n",
    "                                           box_size],\n",
    "                                           pk_fun,\n",
    "                                           batch_size=1)\n",
    "\n",
    "  state = flowpm.lpt_init(cosmology, initial_conditions, 0.1)\n",
    "\n",
    "  \n",
    "   # Evolve particles from initial state down to a=af\n",
    "  final_state = flowpm.nbody(cosmology, state, stages, [nc, nc,  nc])         \n",
    "\n",
    "  # Retrieve final density field i.e interpolate the particles to the mesh\n",
    "  final_field = flowpm.cic_paint(tf.zeros_like(initial_conditions), final_state[0])\n",
    "  final_field=tf.reshape(final_field, [nc, nc, nc])\n",
    "  return final_field\n",
    "\n",
    "\n",
    "#%%\n",
    "@tf.function\n",
    "def compute_jacobian(Omega_c, sigma8):\n",
    "  \"\"\" Function that actually computes the Jacobian of a given statistics\n",
    "  \"\"\"\n",
    "  params = tf.stack([Omega_c, sigma8])\n",
    "  with tf.GradientTape() as tape:\n",
    "    tape.watch(params)\n",
    "    final_field = compute_Nbody(params[0], params[1])\n",
    "    k, power_spectrum = pkl(final_field,shape=final_field.shape,boxsize=np.array([box_size, box_size,\n",
    "                                           box_size]),kmin=0.1,dk=2*np.pi/box_size)\n",
    "\n",
    "  return final_field, tape.jacobian(power_spectrum, params,experimental_use_pfor=False), k, power_spectrum\n",
    "\n",
    "\n",
    "\n",
    "def main(Omega_c, sigma8):\n",
    "  # Query the jacobian\n",
    "\n",
    "    final_field, jacobian, k, power_spectrum = compute_jacobian(tf.convert_to_tensor(Omega_c,\n",
    "                                                              dtype=tf.float32),\n",
    "                                          tf.convert_to_tensor(sigma8,\n",
    "                                                              dtype=tf.float32))\n",
    " \n",
    "  # Saving results in requested filename\n",
    "    return final_field, jacobian, k, power_spectrum"
   ]
  },
  {
   "cell_type": "code",
   "execution_count": 6,
   "metadata": {},
   "outputs": [],
   "source": [
    "final_field, jacobian, k, power_spectrum=main(0.2589,0.8159)"
   ]
  },
  {
   "cell_type": "code",
   "execution_count": 12,
   "metadata": {},
   "outputs": [
    {
     "data": {
      "text/plain": [
       "<matplotlib.legend.Legend at 0x7fa2d31920d0>"
      ]
     },
     "execution_count": 12,
     "metadata": {},
     "output_type": "execute_result"
    },
    {
     "data": {
      "image/png": "[encoded data removed]",
      "text/plain": [
       "<Figure size 432x288 with 1 Axes>"
      ]
     },
     "metadata": {
      "needs_background": "light"
     },
     "output_type": "display_data"
    }
   ],
   "source": [
    "plot(k, numerical[1],label=r'${d P_k}/{d \\sigma_8}$ num')\n",
    "plot(k, jacobian[:,1],label=r'${d P_k}/{d \\sigma_8}$ Flowpm')\n",
    "plot(k, theoretical[1],label=r'${d P_k}/{d \\sigma_8}$ theoretical ')\n",
    "xlabel('k [Mpc]')\n",
    "ylabel('$dP_k/P_k$')\n",
    "legend()"
   ]
  },
  {
   "cell_type": "code",
   "execution_count": 11,
   "metadata": {},
   "outputs": [
    {
     "data": {
      "text/plain": [
       "<matplotlib.legend.Legend at 0x7fa2d31eeac0>"
      ]
     },
     "execution_count": 11,
     "metadata": {},
     "output_type": "execute_result"
    },
    {
     "data": {
      "image/png": "[encoded data removed]",
      "text/plain": [
       "<Figure size 432x288 with 1 Axes>"
      ]
     },
     "metadata": {
      "needs_background": "light"
     },
     "output_type": "display_data"
    }
   ],
   "source": [
    "plot(k, numerical[0], label=r'${d P_k}/{d \\Omega_c}$ num')\n",
    "plot(k, jacobian[:,0],label=r'${d P_k}/{d \\Omega_c}$ Flowpm')\n",
    "plot(k, theoretical[0],label=r'${d P_k}/{d \\Omega_c}$ theoretical')\n",
    "xlabel('k [Mpc]')\n",
    "ylabel('$dP_k$')\n",
    "legend()"
   ]
  },
  {
   "cell_type": "code",
   "execution_count": null,
   "metadata": {},
   "outputs": [],
   "source": []
  }
 ],
 "metadata": {
  "kernelspec": {
   "display_name": "Python 3",
   "language": "python",
   "name": "python3"
  },
  "language_info": {
   "codemirror_mode": {
    "name": "ipython",
    "version": 3
   },
   "file_extension": ".py",
   "mimetype": "text/x-python",
   "name": "python",
   "nbconvert_exporter": "python",
   "pygments_lexer": "ipython3",
   "version": "3.8.5"
  }
 },
 "nbformat": 4,
 "nbformat_minor": 4
}

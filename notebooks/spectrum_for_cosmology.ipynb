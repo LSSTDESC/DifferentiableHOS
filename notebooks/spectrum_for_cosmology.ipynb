{
 "cells": [
  {
   "cell_type": "markdown",
   "metadata": {},
   "source": [
    "<a href=\"https://colab.research.google.com/github/LSSTDESC/DifferentiableHOS/blob/main/notebooks/spectrum_for_cosmology.ipynb\" target=\"_parent\"><img src=\"https://colab.research.google.com/assets/colab-badge.svg\" alt=\"Open In Colab\"/></a>"
   ]
  },
  {
   "cell_type": "code",
   "execution_count": 1,
   "metadata": {},
   "outputs": [
    {
     "name": "stdout",
     "output_type": "stream",
     "text": [
      "Populating the interactive namespace from numpy and matplotlib\n"
     ]
    }
   ],
   "source": [
    "%pylab inline \n",
    "%load_ext autoreload\n",
    "%autoreload 2\n",
    "import tensorflow as tf\n",
    "import numpy as np\n",
    "import sys\n",
    "sys.path.insert(0,'/Users/dl264294/Desktop/github/flowpm/')\n",
    "sys.path.insert(0,'/Users/dl264294/Desktop/github/DifferentiableHOS/')\n",
    "sys.path.insert(0,'/Users/dl264294/Desktop/github/DifferentiableHOS/')\n",
    "#from flowpm.spectrum_for_cosmology import power_spectrum_for_cosmology\n",
    "from flowpm.tfbackground import rad_comoving_distance, a_of_chi\n",
    "from flowpm.cosmology import Cosmology, Planck15\n",
    "from flowpm.tfpower import linear_matter_power\n",
    "from DifferentiableHOS.angular_power_tf import measure_power_spectrum_tf\n",
    "from flowpm.tfpower import linear_matter_power\n",
    "from flowpm.raytracing import  lightcone, Born\n",
    "import flowpm \n",
    "from flowpm.scipy.interpolate import interp_tf\n",
    "import jax\n",
    "import jax_cosmo as jc\n",
    "import jax.numpy as np\n",
    "\n"
   ]
  },
  {
   "cell_type": "code",
   "execution_count": 2,
   "metadata": {},
   "outputs": [],
   "source": [
    "nc=[32,32,320]   # size of the cube, number of cells\n",
    "plane_size=32                    # number of pixel for x and  y \n",
    "Boxsize=[200,200,2000]          # Physical size of the cube\n",
    "field=5.\n",
    "n_steps=10"
   ]
  },
  {
   "cell_type": "code",
   "execution_count": 3,
   "metadata": {},
   "outputs": [],
   "source": [
    "def z2a(z):\n",
    "    a=1/(1+z)\n",
    "    return a\n",
    "\n",
    "def a2z(a):\n",
    "    z=(1/a)-1\n",
    "    return z"
   ]
  },
  {
   "cell_type": "code",
   "execution_count": 9,
   "metadata": {},
   "outputs": [],
   "source": [
    "@tf.function\n",
    "def power_spectrum_for_cosmology(\n",
    "              Omega_c,\n",
    "              sigma8):\n",
    "    cosmology=Planck15(Omega_c=Omega_c,sigma8=sigma8)\n",
    "    a_s=z2a(tf.convert_to_tensor(1.00, dtype=tf.float32))\n",
    "    r = tf.linspace(0,2000,2)\n",
    "    a=a_of_chi(cosmology,r)\n",
    "    ds=rad_comoving_distance(cosmology,a_s)\n",
    "    init_stages = tf.linspace(0.1, a[-1], 2)\n",
    "    k = tf.constant(np.logspace(-4, 1, 256), dtype=tf.float32)\n",
    "    pk = linear_matter_power(cosmology, k)\n",
    "    pk_fun = lambda x: tf.cast(tf.reshape(interp_tf(tf.reshape(tf.cast(x, tf.float32), [-1]), k, pk), x.shape), tf.complex64)\n",
    "    initial_conditions = flowpm.linear_field(nc,    \n",
    "                                            Boxsize, \n",
    "                                             pk_fun,         \n",
    "                                             batch_size=1)\n",
    "    # Sample particles\n",
    "    state = flowpm.lpt_init(cosmology,initial_conditions, 0.1)   \n",
    "    # Evolve particles down to z=0\n",
    "    final_state = flowpm.nbody(cosmology,state, init_stages, nc)         \n",
    "    # Retrieve final density field\n",
    "    state, lps_a, lps=lightcone(cosmology,final_state, a[::-1], \n",
    "                                  nc, \n",
    "                                    field*60/plane_size, plane_size)\n",
    "    k_map=Born(lps_a,lps,ds,nc,Boxsize,plane_size,field,cosmology)\n",
    "    k_map=tf.cast(k_map,dtype=tf.complex64)\n",
    "    ell, power_spectrum=measure_power_spectrum_tf(k_map,field,plane_size)\n",
    "    return  power_spectrum, k_map"
   ]
  },
  {
   "cell_type": "code",
   "execution_count": 10,
   "metadata": {},
   "outputs": [],
   "source": [
    "@tf.function\n",
    "def compute_jacobian(Omega_c, sigma8):\n",
    "    Omega_c=tf.convert_to_tensor(Omega_c,dtype=tf.float32)\n",
    "    sigma8=tf.convert_to_tensor(sigma8,dtype=tf.float32)\n",
    "    params = tf.stack([Omega_c, sigma8])\n",
    "    with tf.GradientTape() as tape:\n",
    "         tape.watch(params)\n",
    "         power_spectrum, kmap= power_spectrum_for_cosmology(\n",
    "              params[0], params[1])\n",
    "        # And we are actually going to try to compress the PS \n",
    "        # to avoid needing too much memory\n",
    "         power_spectrum = power_spectrum[::2] # it should be of size 8\n",
    "    return tape.jacobian(power_spectrum, params,\n",
    "                         experimental_use_pfor=False)"
   ]
  },
  {
   "cell_type": "code",
   "execution_count": 24,
   "metadata": {
    "scrolled": true
   },
   "outputs": [],
   "source": [
    "jacobian = compute_jacobian(0.2589,0.8159)"
   ]
  },
  {
   "cell_type": "code",
   "execution_count": 25,
   "metadata": {},
   "outputs": [
    {
     "name": "stdout",
     "output_type": "stream",
     "text": [
      "tf.Tensor(\n",
      "[[5.0228828e-04 1.8314272e-09]\n",
      " [9.2614570e-08 3.9803972e-08]\n",
      " [3.5924156e-08 1.4669341e-08]\n",
      " [1.9714603e-08 7.6279285e-09]\n",
      " [4.4584287e-09 8.6842028e-10]\n",
      " [4.2951189e-09 8.3343943e-10]\n",
      " [3.6837162e-09 5.9676664e-10]\n",
      " [1.7348897e-09 1.8101735e-10]], shape=(8, 2), dtype=float32)\n"
     ]
    }
   ],
   "source": [
    "print(jacobian)"
   ]
  },
  {
   "cell_type": "code",
   "execution_count": 13,
   "metadata": {},
   "outputs": [],
   "source": [
    "import matplotlib.pyplot as plt\n",
    "from matplotlib.patches import Ellipse\n",
    "\n",
    "def plot_contours(fisher, pos,  nstd=1., ax=None, **kwargs):\n",
    "  \"\"\"\n",
    "  Plot 2D parameter contours given a Hessian matrix of the likelihood\n",
    "  \"\"\"\n",
    "  \n",
    "  def eigsorted(cov):\n",
    "    vals, vecs = linalg.eigh(cov)\n",
    "    order = vals.argsort()[::-1]\n",
    "    return vals[order], vecs[:, order]\n",
    "\n",
    "  mat = fisher\n",
    "  cov = np.linalg.inv(mat)\n",
    "  sigma_marg = lambda i: np.sqrt(cov[i, i])\n",
    "\n",
    "  if ax is None:\n",
    "      ax = plt.gca()\n",
    "\n",
    "  vals, vecs = eigsorted(cov)\n",
    "  theta = degrees(np.arctan2(*vecs[:, 0][::-1]))\n",
    "\n",
    "  # Width and height are \"full\" widths, not radius\n",
    "  width, height = 2 * nstd * sqrt(vals)\n",
    "  ellip = Ellipse(xy=pos, width=width,\n",
    "                  height=height, angle=theta, **kwargs)\n",
    "\n",
    "  ax.add_artist(ellip)\n",
    "  sz = max(width, height)\n",
    "  s1 = 1.5*nstd*sigma_marg(0)\n",
    "  s2 = 1.5*nstd*sigma_marg(1)\n",
    "  ax.set_xlim(pos[0] - s1, pos[0] + s1)\n",
    "  ax.set_ylim(pos[1] - s2, pos[1] + s2)\n",
    "  plt.draw()\n",
    "  return ellip"
   ]
  },
  {
   "cell_type": "code",
   "execution_count": 16,
   "metadata": {},
   "outputs": [
    {
     "name": "stderr",
     "output_type": "stream",
     "text": [
      "WARNING:absl:No GPU/TPU found, falling back to CPU. (Set TF_CPP_MIN_LOG_LEVEL=0 and rerun for more info.)\n"
     ]
    }
   ],
   "source": [
    "cosmo_jax = jc.Planck15()\n",
    "chi_jax = np.linspace(0, 2000,10)"
   ]
  },
  {
   "cell_type": "code",
   "execution_count": 28,
   "metadata": {},
   "outputs": [],
   "source": [
    "jc.Planck15?"
   ]
  },
  {
   "cell_type": "code",
   "execution_count": 17,
   "metadata": {},
   "outputs": [
    {
     "name": "stderr",
     "output_type": "stream",
     "text": [
      "/Users/dl264294/.local/lib/python3.8/site-packages/jax/_src/lax/lax.py:6081: UserWarning: Explicitly requested dtype <class 'jax._src.numpy.lax_numpy.int64'> requested in astype is not available, and will be truncated to dtype int32. To enable more dtypes, set the jax_enable_x64 configuration option or the JAX_ENABLE_X64 shell environment variable. See https://github.com/google/jax#current-gotchas for more.\n",
      "  warnings.warn(msg.format(dtype, fun_name , truncated_dtype))\n"
     ]
    },
    {
     "data": {
      "image/png": "[encoded data removed]",
      "text/plain": [
       "<Figure size 432x288 with 1 Axes>"
      ]
     },
     "metadata": {
      "needs_background": "light"
     },
     "output_type": "display_data"
    }
   ],
   "source": [
    "z = linspace(0,2,100)\n",
    "pz = zeros_like(z)\n",
    "pz[50] =1. \n",
    "nzs_s=jc.redshift.kde_nz(z, pz, bw=0.05)\n",
    "# let's draw the nz on a new array of redshifts\n",
    "zsamp = np.linspace(0,2,128)\n",
    "plot(zsamp, nzs_s(zsamp))\n",
    "nzs = [nzs_s]\n",
    "probes = [ jc.probes.WeakLensing(nzs, sigma_e=0.26) ]\n",
    "ell = np.logspace(1,4,8) # Defines a range of \\ell\n",
    "# And compute the data vector\n",
    "cls = jc.angular_cl.angular_cl(cosmo_jax, ell, probes)\n",
    "\n",
    "# we compute the covariance matrix using the tools from the Jax module\n",
    "mu, cov = jc.angular_cl.gaussian_cl_covariance_and_mean(cosmo_jax, ell, probes, sparse=True);"
   ]
  },
  {
   "cell_type": "code",
   "execution_count": 26,
   "metadata": {},
   "outputs": [],
   "source": [
    "params=np.array([0.2589,0.8159]) "
   ]
  },
  {
   "cell_type": "code",
   "execution_count": 30,
   "metadata": {},
   "outputs": [
    {
     "data": {
      "image/png": "[encoded data removed]",
      "text/plain": [
       "<Figure size 432x288 with 1 Axes>"
      ]
     },
     "metadata": {
      "needs_background": "light"
     },
     "output_type": "display_data"
    }
   ],
   "source": [
    "# Now we can compose the Fisher matrix:\n",
    "F_2 = jc.sparse.dot(jacobian.numpy().T, jc.sparse.inv(cov), jacobian.numpy())\n",
    "plot_contours(F_2, params, fill=False,color='black',lw=4);\n",
    "figsize=(15,15)\n",
    "xlabel('Omega_c')\n",
    "ylabel('sigma8');"
   ]
  },
  {
   "cell_type": "code",
   "execution_count": null,
   "metadata": {},
   "outputs": [],
   "source": []
  }
 ],
 "metadata": {
  "kernelspec": {
   "display_name": "Python 3",
   "language": "python",
   "name": "python3"
  },
  "language_info": {
   "codemirror_mode": {
    "name": "ipython",
    "version": 3
   },
   "file_extension": ".py",
   "mimetype": "text/x-python",
   "name": "python",
   "nbconvert_exporter": "python",
   "pygments_lexer": "ipython3",
   "version": "3.8.5"
  }
 },
 "nbformat": 4,
 "nbformat_minor": 4
}

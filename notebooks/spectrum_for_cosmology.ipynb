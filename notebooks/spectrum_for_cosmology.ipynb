{
 "cells": [
  {
   "cell_type": "code",
   "execution_count": 1,
   "metadata": {},
   "outputs": [
    {
     "name": "stdout",
     "output_type": "stream",
     "text": [
      "Populating the interactive namespace from numpy and matplotlib\n"
     ]
    }
   ],
   "source": [
    "%pylab inline \n",
    "%load_ext autoreload\n",
    "%autoreload 2\n",
    "import tensorflow as tf\n",
    "import numpy as np\n",
    "import sys\n",
    "sys.path.insert(0,'/Users/dl264294/Desktop/github/flowpm/')\n",
    "#from flowpm.spectrum_for_cosmology import power_spectrum_for_cosmology\n",
    "from flowpm.tfbackground import cosmo,z2a,a2z,afactor, chifactor\n",
    "from flowpm.tfpower import linear_matter_power\n",
    "from flowpm.angular_power_tf import measure_power_spectrum_tf\n",
    "from flowpm.raytracing import  lightcone, Born\n",
    "import flowpm \n"
   ]
  },
  {
   "cell_type": "code",
   "execution_count": 2,
   "metadata": {},
   "outputs": [
    {
     "name": "stdout",
     "output_type": "stream",
     "text": [
      "WARNING:tensorflow:@custom_gradient grad_fn has 'variables' in signature, but no ResourceVariables were used on the forward pass.\n"
     ]
    }
   ],
   "source": [
    "from flowpm.tfpower import linear_matter_power\n",
    "from scipy.interpolate import InterpolatedUnivariateSpline as iuspline\n",
    "klin = np.loadtxt('/Users/dl264294/Desktop/github/flowpm/flowpm/data/Planck15_a1p00.txt').T[0]\n",
    "plin=linear_matter_power(cosmo, klin)\n",
    "ipklin = iuspline(klin, plin)"
   ]
  },
  {
   "cell_type": "code",
   "execution_count": 3,
   "metadata": {},
   "outputs": [
    {
     "name": "stdout",
     "output_type": "stream",
     "text": [
      "WARNING:tensorflow:@custom_gradient grad_fn has 'variables' in signature, but no ResourceVariables were used on the forward pass.\n",
      "WARNING:tensorflow:@custom_gradient grad_fn has 'variables' in signature, but no ResourceVariables were used on the forward pass.\n"
     ]
    }
   ],
   "source": [
    "\n",
    "nc=[64,64,640]   # size of the cube, number of cells\n",
    "plane_size=64                    # number of pixel for x and  y \n",
    "Boxsize=[200,200,2000]          # Physical size of the cube\n",
    "r = np.linspace(0,2000,10, endpoint=True)\n",
    "a = afactor(r)  \n",
    "a_s=z2a(1.00)\n",
    "ds=chifactor(a_s)\n",
    "field=5.\n",
    "a0=0.1\n",
    "af=1.0\n",
    "n_steps=10\n",
    "@tf.function\n",
    "def power_spectrum_for_cosmology(\n",
    "              Omega0_m,\n",
    "              sigma8):\n",
    "    cosmology=cosmo\n",
    "    cosmology['Omega0_m']=tf.convert_to_tensor(Omega0_m,dtype=tf.float32)\n",
    "    cosmology['sigma8']=tf.convert_to_tensor(sigma8,dtype=tf.float32)\n",
    "    init_stages = np.linspace(a0, af, n_steps, endpoint=True)\n",
    "    initial_conditions = flowpm.linear_field(nc,    \n",
    "                                            Boxsize, \n",
    "                                             ipklin,         \n",
    "                                             batch_size=1)\n",
    "    # Sample particles\n",
    "    state = flowpm.lpt_init(initial_conditions, 0.1)   \n",
    "    # Evolve particles down to z=0\n",
    "    final_state = flowpm.nbody(state, init_stages, nc)         \n",
    "    # Retrieve final density field\n",
    "    state, lps_a, lps=lightcone(final_state, a[::-1], \n",
    "                                  nc, \n",
    "                                    field*60/plane_size, plane_size,\n",
    "              cosmology)\n",
    "    k_map=Born(lps_a,lps,ds,nc,Boxsize,plane_size,field,cosmology)\n",
    "    k_map=tf.cast(k_map,dtype=tf.complex64)\n",
    "    ell, power_spectrum=measure_power_spectrum_tf(k_map,field,plane_size)\n",
    "    return ell, power_spectrum, k_map\n",
    "\n"
   ]
  },
  {
   "cell_type": "code",
   "execution_count": 4,
   "metadata": {},
   "outputs": [
    {
     "name": "stdout",
     "output_type": "stream",
     "text": [
      "WARNING:tensorflow:@custom_gradient grad_fn has 'variables' in signature, but no ResourceVariables were used on the forward pass.\n",
      "WARNING:tensorflow:@custom_gradient grad_fn has 'variables' in signature, but no ResourceVariables were used on the forward pass.\n",
      "WARNING:tensorflow:@custom_gradient grad_fn has 'variables' in signature, but no ResourceVariables were used on the forward pass.\n",
      "WARNING:tensorflow:@custom_gradient grad_fn has 'variables' in signature, but no ResourceVariables were used on the forward pass.\n",
      "WARNING:tensorflow:@custom_gradient grad_fn has 'variables' in signature, but no ResourceVariables were used on the forward pass.\n",
      "WARNING:tensorflow:@custom_gradient grad_fn has 'variables' in signature, but no ResourceVariables were used on the forward pass.\n",
      "WARNING:tensorflow:@custom_gradient grad_fn has 'variables' in signature, but no ResourceVariables were used on the forward pass.\n",
      "WARNING:tensorflow:@custom_gradient grad_fn has 'variables' in signature, but no ResourceVariables were used on the forward pass.\n",
      "WARNING:tensorflow:@custom_gradient grad_fn has 'variables' in signature, but no ResourceVariables were used on the forward pass.\n"
     ]
    }
   ],
   "source": [
    "ell3, power_spectrum3, kmap=power_spectrum_for_cosmology(0.3075,0.8159)"
   ]
  },
  {
   "cell_type": "code",
   "execution_count": null,
   "metadata": {},
   "outputs": [],
   "source": [
    "Omega0_m= tf.constant(0.3075)\n",
    "sigma8=tf.constant(0.8159)\n",
    "with tf.GradientTape() as tape:\n",
    "    tape.watch(Omega0_m)\n",
    "    ell, power_spectrum,kmap= power_spectrum_for_cosmology(\n",
    "              Omega0_m,\n",
    "              sigma8)\n",
    "dy_dx = tape.jacobian(power_spectrum, Omega0_m)\n",
    "print(dy_dx)"
   ]
  },
  {
   "cell_type": "code",
   "execution_count": null,
   "metadata": {},
   "outputs": [],
   "source": []
  }
 ],
 "metadata": {
  "kernelspec": {
   "display_name": "Python 3",
   "language": "python",
   "name": "python3"
  },
  "language_info": {
   "codemirror_mode": {
    "name": "ipython",
    "version": 3
   },
   "file_extension": ".py",
   "mimetype": "text/x-python",
   "name": "python",
   "nbconvert_exporter": "python",
   "pygments_lexer": "ipython3",
   "version": "3.8.5"
  }
 },
 "nbformat": 4,
 "nbformat_minor": 4
}

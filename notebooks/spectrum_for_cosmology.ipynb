{
 "cells": [
  {
   "cell_type": "markdown",
   "metadata": {},
   "source": [
    "<a href=\"https://colab.research.google.com/github/LSSTDESC/DifferentiableHOS/blob/main/notebooks/spectrum_for_cosmology.ipynb\" target=\"_parent\"><img src=\"https://colab.research.google.com/assets/colab-badge.svg\" alt=\"Open In Colab\"/></a>"
   ]
  },
  {
   "cell_type": "code",
   "execution_count": 1,
   "metadata": {},
   "outputs": [
    {
     "name": "stdout",
     "output_type": "stream",
     "text": [
      "Populating the interactive namespace from numpy and matplotlib\n"
     ]
    }
   ],
   "source": [
    "%pylab inline \n",
    "%load_ext autoreload\n",
    "%autoreload 2\n",
    "import tensorflow as tf\n",
    "import numpy as np\n",
    "import sys\n",
    "sys.path.insert(0,'/Users/dl264294/Desktop/github/flowpm/')\n",
    "#from flowpm.spectrum_for_cosmology import power_spectrum_for_cosmology\n",
    "from flowpm.tfbackground import cosmo,z2a,a2z,afactor, chifactor\n",
    "from flowpm.tfpower import linear_matter_power\n",
    "from flowpm.angular_power_tf import measure_power_spectrum_tf\n",
    "from flowpm.raytracing import  lightcone, Born\n",
    "import flowpm \n"
   ]
  },
  {
   "cell_type": "code",
   "execution_count": 2,
   "metadata": {},
   "outputs": [],
   "source": [
    "from flowpm.tfpower import linear_matter_power\n",
    "# from scipy.interpolate import InterpolatedUnivariateSpline as iuspline\n",
    "# klin = np.loadtxt('/Users/dl264294/Desktop/github/flowpm/flowpm/data/Planck15_a1p00.txt').T[0]\n",
    "# plin=linear_matter_power(cosmo, klin)\n",
    "# ipklin = iuspline(klin, plin)"
   ]
  },
  {
   "cell_type": "code",
   "execution_count": 3,
   "metadata": {},
   "outputs": [
    {
     "name": "stdout",
     "output_type": "stream",
     "text": [
      "WARNING:tensorflow:@custom_gradient grad_fn has 'variables' in signature, but no ResourceVariables were used on the forward pass.\n",
      "WARNING:tensorflow:@custom_gradient grad_fn has 'variables' in signature, but no ResourceVariables were used on the forward pass.\n"
     ]
    }
   ],
   "source": [
    "nc=[32,32,320]   # size of the cube, number of cells\n",
    "plane_size=32                    # number of pixel for x and  y \n",
    "Boxsize=[200,200,2000]          # Physical size of the cube\n",
    "r = np.linspace(0,2000,10, endpoint=True)\n",
    "a = afactor(r)  \n",
    "a_s=z2a(1.00)\n",
    "ds=chifactor(a_s)\n",
    "field=5.\n",
    "a0=0.1\n",
    "af=1.0\n",
    "n_steps=10\n",
    "@tf.function\n",
    "def power_spectrum_for_cosmology(\n",
    "              Omega0_m,\n",
    "              sigma8):\n",
    "    cosmology=cosmo\n",
    "    cosmology['Omega0_m']=tf.convert_to_tensor(Omega0_m,dtype=tf.float32)\n",
    "    cosmology['sigma8']=tf.convert_to_tensor(sigma8,dtype=tf.float32)\n",
    "    init_stages = np.linspace(a0, af, n_steps, endpoint=True)\n",
    "    initial_conditions = flowpm.linear_field(nc,    \n",
    "                                            Boxsize, \n",
    "                                             lambda k: tf.cast(linear_matter_power(cosmo, k), tf.complex64),         \n",
    "                                             batch_size=1)\n",
    "    # Sample particles\n",
    "    state = flowpm.lpt_init(initial_conditions, 0.1)   \n",
    "    # Evolve particles down to z=0\n",
    "    final_state = flowpm.nbody(state, init_stages, nc)         \n",
    "    # Retrieve final density field\n",
    "    state, lps_a, lps=lightcone(final_state, a[::-1], \n",
    "                                  nc, \n",
    "                                    field*60/plane_size, plane_size,\n",
    "              cosmology)\n",
    "    k_map=Born(lps_a,lps,ds,nc,Boxsize,plane_size,field,cosmology)\n",
    "    k_map=tf.cast(k_map,dtype=tf.complex64)\n",
    "    ell, power_spectrum=measure_power_spectrum_tf(k_map,field,plane_size)\n",
    "    return ell, power_spectrum, k_map\n",
    "\n"
   ]
  },
  {
   "cell_type": "code",
   "execution_count": 4,
   "metadata": {},
   "outputs": [
    {
     "name": "stdout",
     "output_type": "stream",
     "text": [
      "WARNING:tensorflow:@custom_gradient grad_fn has 'variables' in signature, but no ResourceVariables were used on the forward pass.\n",
      "WARNING:tensorflow:@custom_gradient grad_fn has 'variables' in signature, but no ResourceVariables were used on the forward pass.\n",
      "WARNING:tensorflow:@custom_gradient grad_fn has 'variables' in signature, but no ResourceVariables were used on the forward pass.\n",
      "WARNING:tensorflow:@custom_gradient grad_fn has 'variables' in signature, but no ResourceVariables were used on the forward pass.\n",
      "WARNING:tensorflow:@custom_gradient grad_fn has 'variables' in signature, but no ResourceVariables were used on the forward pass.\n",
      "WARNING:tensorflow:@custom_gradient grad_fn has 'variables' in signature, but no ResourceVariables were used on the forward pass.\n",
      "WARNING:tensorflow:@custom_gradient grad_fn has 'variables' in signature, but no ResourceVariables were used on the forward pass.\n",
      "WARNING:tensorflow:@custom_gradient grad_fn has 'variables' in signature, but no ResourceVariables were used on the forward pass.\n",
      "WARNING:tensorflow:@custom_gradient grad_fn has 'variables' in signature, but no ResourceVariables were used on the forward pass.\n",
      "WARNING:tensorflow:@custom_gradient grad_fn has 'variables' in signature, but no ResourceVariables were used on the forward pass.\n"
     ]
    },
    {
     "ename": "TypeError",
     "evalue": "An op outside of the function building code is being passed\na \"Graph\" tensor. It is possible to have Graph tensors\nleak out of the function building context by including a\ntf.init_scope in your function building code.\nFor example, the following function will fail:\n  @tf.function\n  def has_init_scope():\n    my_constant = tf.constant(1.)\n    with tf.init_scope():\n      added = my_constant * 2\nThe graph tensor has name: Const_1:0",
     "output_type": "error",
     "traceback": [
      "\u001b[0;31m---------------------------------------------------------------------------\u001b[0m",
      "\u001b[0;31mTypeError\u001b[0m                                 Traceback (most recent call last)",
      "\u001b[0;32m<ipython-input-4-e8aa5dbb207a>\u001b[0m in \u001b[0;36m<module>\u001b[0;34m\u001b[0m\n\u001b[0;32m----> 1\u001b[0;31m \u001b[0mell3\u001b[0m\u001b[0;34m,\u001b[0m \u001b[0mpower_spectrum3\u001b[0m\u001b[0;34m,\u001b[0m \u001b[0mkmap\u001b[0m\u001b[0;34m=\u001b[0m\u001b[0mpower_spectrum_for_cosmology\u001b[0m\u001b[0;34m(\u001b[0m\u001b[0;36m0.3075\u001b[0m\u001b[0;34m,\u001b[0m\u001b[0;36m0.8159\u001b[0m\u001b[0;34m)\u001b[0m\u001b[0;34m\u001b[0m\u001b[0;34m\u001b[0m\u001b[0m\n\u001b[0m",
      "\u001b[0;32m~/.local/lib/python3.8/site-packages/tensorflow/python/eager/def_function.py\u001b[0m in \u001b[0;36m__call__\u001b[0;34m(self, *args, **kwds)\u001b[0m\n\u001b[1;32m    778\u001b[0m       \u001b[0;32melse\u001b[0m\u001b[0;34m:\u001b[0m\u001b[0;34m\u001b[0m\u001b[0;34m\u001b[0m\u001b[0m\n\u001b[1;32m    779\u001b[0m         \u001b[0mcompiler\u001b[0m \u001b[0;34m=\u001b[0m \u001b[0;34m\"nonXla\"\u001b[0m\u001b[0;34m\u001b[0m\u001b[0;34m\u001b[0m\u001b[0m\n\u001b[0;32m--> 780\u001b[0;31m         \u001b[0mresult\u001b[0m \u001b[0;34m=\u001b[0m \u001b[0mself\u001b[0m\u001b[0;34m.\u001b[0m\u001b[0m_call\u001b[0m\u001b[0;34m(\u001b[0m\u001b[0;34m*\u001b[0m\u001b[0margs\u001b[0m\u001b[0;34m,\u001b[0m \u001b[0;34m**\u001b[0m\u001b[0mkwds\u001b[0m\u001b[0;34m)\u001b[0m\u001b[0;34m\u001b[0m\u001b[0;34m\u001b[0m\u001b[0m\n\u001b[0m\u001b[1;32m    781\u001b[0m \u001b[0;34m\u001b[0m\u001b[0m\n\u001b[1;32m    782\u001b[0m       \u001b[0mnew_tracing_count\u001b[0m \u001b[0;34m=\u001b[0m \u001b[0mself\u001b[0m\u001b[0;34m.\u001b[0m\u001b[0m_get_tracing_count\u001b[0m\u001b[0;34m(\u001b[0m\u001b[0;34m)\u001b[0m\u001b[0;34m\u001b[0m\u001b[0;34m\u001b[0m\u001b[0m\n",
      "\u001b[0;32m~/.local/lib/python3.8/site-packages/tensorflow/python/eager/def_function.py\u001b[0m in \u001b[0;36m_call\u001b[0;34m(self, *args, **kwds)\u001b[0m\n\u001b[1;32m    844\u001b[0m               *args, **kwds)\n\u001b[1;32m    845\u001b[0m       \u001b[0;31m# If we did not create any variables the trace we have is good enough.\u001b[0m\u001b[0;34m\u001b[0m\u001b[0;34m\u001b[0m\u001b[0;34m\u001b[0m\u001b[0m\n\u001b[0;32m--> 846\u001b[0;31m       \u001b[0;32mreturn\u001b[0m \u001b[0mself\u001b[0m\u001b[0;34m.\u001b[0m\u001b[0m_concrete_stateful_fn\u001b[0m\u001b[0;34m.\u001b[0m\u001b[0m_filtered_call\u001b[0m\u001b[0;34m(\u001b[0m\u001b[0mcanon_args\u001b[0m\u001b[0;34m,\u001b[0m \u001b[0mcanon_kwds\u001b[0m\u001b[0;34m)\u001b[0m  \u001b[0;31m# pylint: disable=protected-access\u001b[0m\u001b[0;34m\u001b[0m\u001b[0;34m\u001b[0m\u001b[0m\n\u001b[0m\u001b[1;32m    847\u001b[0m \u001b[0;34m\u001b[0m\u001b[0m\n\u001b[1;32m    848\u001b[0m     \u001b[0;32mdef\u001b[0m \u001b[0mfn_with_cond\u001b[0m\u001b[0;34m(\u001b[0m\u001b[0;34m*\u001b[0m\u001b[0minner_args\u001b[0m\u001b[0;34m,\u001b[0m \u001b[0;34m**\u001b[0m\u001b[0minner_kwds\u001b[0m\u001b[0;34m)\u001b[0m\u001b[0;34m:\u001b[0m\u001b[0;34m\u001b[0m\u001b[0;34m\u001b[0m\u001b[0m\n",
      "\u001b[0;32m~/.local/lib/python3.8/site-packages/tensorflow/python/eager/function.py\u001b[0m in \u001b[0;36m_filtered_call\u001b[0;34m(self, args, kwargs, cancellation_manager)\u001b[0m\n\u001b[1;32m   1841\u001b[0m       \u001b[0;31m`\u001b[0m\u001b[0margs\u001b[0m\u001b[0;31m`\u001b[0m \u001b[0;32mand\u001b[0m\u001b[0;31m \u001b[0m\u001b[0;31m`\u001b[0m\u001b[0mkwargs\u001b[0m\u001b[0;31m`\u001b[0m\u001b[0;34m.\u001b[0m\u001b[0;34m\u001b[0m\u001b[0;34m\u001b[0m\u001b[0m\n\u001b[1;32m   1842\u001b[0m     \"\"\"\n\u001b[0;32m-> 1843\u001b[0;31m     return self._call_flat(\n\u001b[0m\u001b[1;32m   1844\u001b[0m         [t for t in nest.flatten((args, kwargs), expand_composites=True)\n\u001b[1;32m   1845\u001b[0m          if isinstance(t, (ops.Tensor,\n",
      "\u001b[0;32m~/.local/lib/python3.8/site-packages/tensorflow/python/eager/function.py\u001b[0m in \u001b[0;36m_call_flat\u001b[0;34m(self, args, captured_inputs, cancellation_manager)\u001b[0m\n\u001b[1;32m   1921\u001b[0m         and executing_eagerly):\n\u001b[1;32m   1922\u001b[0m       \u001b[0;31m# No tape is watching; skip to running the function.\u001b[0m\u001b[0;34m\u001b[0m\u001b[0;34m\u001b[0m\u001b[0;34m\u001b[0m\u001b[0m\n\u001b[0;32m-> 1923\u001b[0;31m       return self._build_call_outputs(self._inference_function.call(\n\u001b[0m\u001b[1;32m   1924\u001b[0m           ctx, args, cancellation_manager=cancellation_manager))\n\u001b[1;32m   1925\u001b[0m     forward_backward = self._select_forward_and_backward_functions(\n",
      "\u001b[0;32m~/.local/lib/python3.8/site-packages/tensorflow/python/eager/function.py\u001b[0m in \u001b[0;36mcall\u001b[0;34m(self, ctx, args, cancellation_manager)\u001b[0m\n\u001b[1;32m    543\u001b[0m       \u001b[0;32mwith\u001b[0m \u001b[0m_InterpolateFunctionError\u001b[0m\u001b[0;34m(\u001b[0m\u001b[0mself\u001b[0m\u001b[0;34m)\u001b[0m\u001b[0;34m:\u001b[0m\u001b[0;34m\u001b[0m\u001b[0;34m\u001b[0m\u001b[0m\n\u001b[1;32m    544\u001b[0m         \u001b[0;32mif\u001b[0m \u001b[0mcancellation_manager\u001b[0m \u001b[0;32mis\u001b[0m \u001b[0;32mNone\u001b[0m\u001b[0;34m:\u001b[0m\u001b[0;34m\u001b[0m\u001b[0;34m\u001b[0m\u001b[0m\n\u001b[0;32m--> 545\u001b[0;31m           outputs = execute.execute(\n\u001b[0m\u001b[1;32m    546\u001b[0m               \u001b[0mstr\u001b[0m\u001b[0;34m(\u001b[0m\u001b[0mself\u001b[0m\u001b[0;34m.\u001b[0m\u001b[0msignature\u001b[0m\u001b[0;34m.\u001b[0m\u001b[0mname\u001b[0m\u001b[0;34m)\u001b[0m\u001b[0;34m,\u001b[0m\u001b[0;34m\u001b[0m\u001b[0;34m\u001b[0m\u001b[0m\n\u001b[1;32m    547\u001b[0m               \u001b[0mnum_outputs\u001b[0m\u001b[0;34m=\u001b[0m\u001b[0mself\u001b[0m\u001b[0;34m.\u001b[0m\u001b[0m_num_outputs\u001b[0m\u001b[0;34m,\u001b[0m\u001b[0;34m\u001b[0m\u001b[0;34m\u001b[0m\u001b[0m\n",
      "\u001b[0;32m~/.local/lib/python3.8/site-packages/tensorflow/python/eager/execute.py\u001b[0m in \u001b[0;36mquick_execute\u001b[0;34m(op_name, num_outputs, inputs, attrs, ctx, name)\u001b[0m\n\u001b[1;32m     73\u001b[0m           \u001b[0;34m\"Inputs to eager execution function cannot be Keras symbolic \"\u001b[0m\u001b[0;34m\u001b[0m\u001b[0;34m\u001b[0m\u001b[0m\n\u001b[1;32m     74\u001b[0m           \"tensors, but found {}\".format(keras_symbolic_tensors))\n\u001b[0;32m---> 75\u001b[0;31m     \u001b[0;32mraise\u001b[0m \u001b[0me\u001b[0m\u001b[0;34m\u001b[0m\u001b[0;34m\u001b[0m\u001b[0m\n\u001b[0m\u001b[1;32m     76\u001b[0m   \u001b[0;31m# pylint: enable=protected-access\u001b[0m\u001b[0;34m\u001b[0m\u001b[0;34m\u001b[0m\u001b[0;34m\u001b[0m\u001b[0m\n\u001b[1;32m     77\u001b[0m   \u001b[0;32mreturn\u001b[0m \u001b[0mtensors\u001b[0m\u001b[0;34m\u001b[0m\u001b[0;34m\u001b[0m\u001b[0m\n",
      "\u001b[0;32m~/.local/lib/python3.8/site-packages/tensorflow/python/eager/execute.py\u001b[0m in \u001b[0;36mquick_execute\u001b[0;34m(op_name, num_outputs, inputs, attrs, ctx, name)\u001b[0m\n\u001b[1;32m     57\u001b[0m   \u001b[0;32mtry\u001b[0m\u001b[0;34m:\u001b[0m\u001b[0;34m\u001b[0m\u001b[0;34m\u001b[0m\u001b[0m\n\u001b[1;32m     58\u001b[0m     \u001b[0mctx\u001b[0m\u001b[0;34m.\u001b[0m\u001b[0mensure_initialized\u001b[0m\u001b[0;34m(\u001b[0m\u001b[0;34m)\u001b[0m\u001b[0;34m\u001b[0m\u001b[0;34m\u001b[0m\u001b[0m\n\u001b[0;32m---> 59\u001b[0;31m     tensors = pywrap_tfe.TFE_Py_Execute(ctx._handle, device_name, op_name,\n\u001b[0m\u001b[1;32m     60\u001b[0m                                         inputs, attrs, num_outputs)\n\u001b[1;32m     61\u001b[0m   \u001b[0;32mexcept\u001b[0m \u001b[0mcore\u001b[0m\u001b[0;34m.\u001b[0m\u001b[0m_NotOkStatusException\u001b[0m \u001b[0;32mas\u001b[0m \u001b[0me\u001b[0m\u001b[0;34m:\u001b[0m\u001b[0;34m\u001b[0m\u001b[0;34m\u001b[0m\u001b[0m\n",
      "\u001b[0;31mTypeError\u001b[0m: An op outside of the function building code is being passed\na \"Graph\" tensor. It is possible to have Graph tensors\nleak out of the function building context by including a\ntf.init_scope in your function building code.\nFor example, the following function will fail:\n  @tf.function\n  def has_init_scope():\n    my_constant = tf.constant(1.)\n    with tf.init_scope():\n      added = my_constant * 2\nThe graph tensor has name: Const_1:0"
     ]
    }
   ],
   "source": [
    "ell3, power_spectrum3, kmap=power_spectrum_for_cosmology(0.3075,0.8159)"
   ]
  },
  {
   "cell_type": "code",
   "execution_count": null,
   "metadata": {},
   "outputs": [
    {
     "name": "stdout",
     "output_type": "stream",
     "text": [
      "WARNING:tensorflow:@custom_gradient grad_fn has 'variables' in signature, but no ResourceVariables were used on the forward pass.\n",
      "WARNING:tensorflow:@custom_gradient grad_fn has 'variables' in signature, but no ResourceVariables were used on the forward pass.\n",
      "WARNING:tensorflow:@custom_gradient grad_fn has 'variables' in signature, but no ResourceVariables were used on the forward pass.\n",
      "WARNING:tensorflow:@custom_gradient grad_fn has 'variables' in signature, but no ResourceVariables were used on the forward pass.\n",
      "WARNING:tensorflow:@custom_gradient grad_fn has 'variables' in signature, but no ResourceVariables were used on the forward pass.\n",
      "WARNING:tensorflow:@custom_gradient grad_fn has 'variables' in signature, but no ResourceVariables were used on the forward pass.\n",
      "WARNING:tensorflow:@custom_gradient grad_fn has 'variables' in signature, but no ResourceVariables were used on the forward pass.\n",
      "WARNING:tensorflow:@custom_gradient grad_fn has 'variables' in signature, but no ResourceVariables were used on the forward pass.\n",
      "WARNING:tensorflow:@custom_gradient grad_fn has 'variables' in signature, but no ResourceVariables were used on the forward pass.\n",
      "WARNING:tensorflow:From /Users/dl264294/.local/lib/python3.8/site-packages/tensorflow_probability/python/math/ode/base.py:459: calling while_loop_v2 (from tensorflow.python.ops.control_flow_ops) with back_prop=False is deprecated and will be removed in a future version.\n",
      "Instructions for updating:\n",
      "back_prop=False is deprecated. Consider using tf.stop_gradient instead.\n",
      "Instead of:\n",
      "results = tf.while_loop(c, b, vars, back_prop=False)\n",
      "Use:\n",
      "results = tf.nest.map_structure(tf.stop_gradient, tf.while_loop(c, b, vars))\n",
      "WARNING:tensorflow:@custom_gradient grad_fn has 'variables' in signature, but no ResourceVariables were used on the forward pass.\n",
      "WARNING:tensorflow:@custom_gradient grad_fn has 'variables' in signature, but no ResourceVariables were used on the forward pass.\n",
      "WARNING:tensorflow:@custom_gradient grad_fn has 'variables' in signature, but no ResourceVariables were used on the forward pass.\n",
      "WARNING:tensorflow:@custom_gradient grad_fn has 'variables' in signature, but no ResourceVariables were used on the forward pass.\n",
      "WARNING:tensorflow:@custom_gradient grad_fn has 'variables' in signature, but no ResourceVariables were used on the forward pass.\n",
      "WARNING:tensorflow:@custom_gradient grad_fn has 'variables' in signature, but no ResourceVariables were used on the forward pass.\n",
      "WARNING:tensorflow:@custom_gradient grad_fn has 'variables' in signature, but no ResourceVariables were used on the forward pass.\n",
      "WARNING:tensorflow:@custom_gradient grad_fn has 'variables' in signature, but no ResourceVariables were used on the forward pass.\n",
      "WARNING:tensorflow:@custom_gradient grad_fn has 'variables' in signature, but no ResourceVariables were used on the forward pass.\n",
      "WARNING:tensorflow:Using a while_loop for converting Roll\n",
      "WARNING:tensorflow:Using a while_loop for converting ScatterNd\n",
      "WARNING:tensorflow:Using a while_loop for converting ScatterNd\n",
      "WARNING:tensorflow:Using a while_loop for converting ScatterNd\n",
      "WARNING:tensorflow:Using a while_loop for converting ScatterNd\n",
      "WARNING:tensorflow:Using a while_loop for converting ScatterNd\n",
      "WARNING:tensorflow:Using a while_loop for converting ScatterNd\n",
      "WARNING:tensorflow:Using a while_loop for converting ScatterNd\n",
      "WARNING:tensorflow:Using a while_loop for converting ScatterNd\n",
      "WARNING:tensorflow:Using a while_loop for converting ScatterNd\n",
      "WARNING:tensorflow:Using a while_loop for converting ScatterNd\n",
      "WARNING:tensorflow:Using a while_loop for converting ScatterNd\n",
      "WARNING:tensorflow:Using a while_loop for converting ScatterNd\n",
      "WARNING:tensorflow:Using a while_loop for converting ScatterNd\n",
      "WARNING:tensorflow:Using a while_loop for converting ScatterNd\n",
      "WARNING:tensorflow:Using a while_loop for converting ScatterNd\n",
      "WARNING:tensorflow:Using a while_loop for converting ScatterNd\n",
      "WARNING:tensorflow:Using a while_loop for converting ScatterNd\n",
      "WARNING:tensorflow:Using a while_loop for converting ScatterNd\n",
      "WARNING:tensorflow:Using a while_loop for converting ScatterNd\n",
      "WARNING:tensorflow:Using a while_loop for converting ScatterNd\n",
      "WARNING:tensorflow:Using a while_loop for converting ScatterNd\n",
      "WARNING:tensorflow:Using a while_loop for converting ScatterNd\n",
      "WARNING:tensorflow:Using a while_loop for converting ScatterNd\n",
      "WARNING:tensorflow:Using a while_loop for converting ScatterNd\n",
      "WARNING:tensorflow:Using a while_loop for converting ScatterNd\n",
      "WARNING:tensorflow:Using a while_loop for converting ScatterNd\n",
      "WARNING:tensorflow:Using a while_loop for converting ScatterNd\n",
      "WARNING:tensorflow:Using a while_loop for converting ScatterNd\n",
      "WARNING:tensorflow:Using a while_loop for converting ScatterNd\n",
      "WARNING:tensorflow:Using a while_loop for converting ScatterNd\n",
      "WARNING:tensorflow:Using a while_loop for converting ScatterNd\n",
      "WARNING:tensorflow:Using a while_loop for converting ScatterNd\n",
      "WARNING:tensorflow:Using a while_loop for converting ScatterNd\n",
      "WARNING:tensorflow:Using a while_loop for converting ScatterNd\n",
      "WARNING:tensorflow:Using a while_loop for converting ScatterNd\n",
      "WARNING:tensorflow:Using a while_loop for converting ScatterNd\n",
      "WARNING:tensorflow:Using a while_loop for converting ScatterNd\n",
      "WARNING:tensorflow:Using a while_loop for converting ScatterNd\n",
      "WARNING:tensorflow:Using a while_loop for converting ScatterNd\n",
      "WARNING:tensorflow:Using a while_loop for converting ScatterNd\n",
      "WARNING:tensorflow:Using a while_loop for converting ScatterNd\n",
      "WARNING:tensorflow:Using a while_loop for converting ScatterNd\n",
      "WARNING:tensorflow:Using a while_loop for converting ScatterNd\n",
      "WARNING:tensorflow:Using a while_loop for converting ScatterNd\n",
      "WARNING:tensorflow:Using a while_loop for converting ScatterNd\n",
      "WARNING:tensorflow:Using a while_loop for converting ScatterNd\n",
      "WARNING:tensorflow:Using a while_loop for converting ScatterNd\n",
      "WARNING:tensorflow:Using a while_loop for converting ScatterNd\n",
      "WARNING:tensorflow:Using a while_loop for converting ScatterNd\n",
      "WARNING:tensorflow:Using a while_loop for converting ScatterNd\n",
      "WARNING:tensorflow:Using a while_loop for converting ScatterNd\n",
      "WARNING:tensorflow:Using a while_loop for converting ScatterNd\n",
      "WARNING:tensorflow:Using a while_loop for converting ScatterNd\n",
      "WARNING:tensorflow:Using a while_loop for converting ScatterNd\n",
      "WARNING:tensorflow:Using a while_loop for converting ScatterNd\n",
      "WARNING:tensorflow:Using a while_loop for converting ScatterNd\n",
      "WARNING:tensorflow:Using a while_loop for converting ScatterNd\n"
     ]
    }
   ],
   "source": [
    "Omega0_m= tf.constant(0.3075)\n",
    "sigma8=tf.constant(0.8159)\n",
    "with tf.GradientTape() as tape:\n",
    "    tape.watch(Omega0_m)\n",
    "    ell, power_spectrum,kmap= power_spectrum_for_cosmology(\n",
    "              Omega0_m,\n",
    "              sigma8)\n",
    "dy_dx = tape.jacobian(power_spectrum, Omega0_m)\n",
    "print(dy_dx)"
   ]
  },
  {
   "cell_type": "code",
   "execution_count": null,
   "metadata": {},
   "outputs": [],
   "source": []
  }
 ],
 "metadata": {
  "kernelspec": {
   "display_name": "Python 3",
   "language": "python",
   "name": "python3"
  },
  "language_info": {
   "codemirror_mode": {
    "name": "ipython",
    "version": 3
   },
   "file_extension": ".py",
   "mimetype": "text/x-python",
   "name": "python",
   "nbconvert_exporter": "python",
   "pygments_lexer": "ipython3",
   "version": "3.8.5"
  }
 },
 "nbformat": 4,
 "nbformat_minor": 4
}

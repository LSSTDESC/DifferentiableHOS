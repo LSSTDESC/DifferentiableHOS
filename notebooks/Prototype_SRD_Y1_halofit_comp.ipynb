{
 "cells": [
  {
   "cell_type": "code",
   "execution_count": 1,
   "id": "4b082e68-b3a7-4026-929e-dc639f7aac12",
   "metadata": {},
   "outputs": [],
   "source": [
    "%pylab inline\n",
    "import pickle\n",
    "import numpy as np\n",
    "import os\n",
    "import DifferentiableHOS as DHOS\n",
    "import tensorflow as tf\n",
    "from scipy import ndimage, misc\n",
    "import jax\n",
    "import jax_cosmo as jc"
   ]
  },
  {
   "cell_type": "code",
   "execution_count": 2,
   "id": "9898e356-9391-45ef-a3e7-2365ba60c1b8",
   "metadata": {},
   "outputs": [],
   "source": [
    "field_size=5.\n",
    "field_npix=1024\n",
    "pix_scale = 5/1024*60# arcmin\n",
    "sigma_pix=1/pix_scale"
   ]
  },
  {
   "cell_type": "code",
   "execution_count": 3,
   "id": "8b51e195-cc7c-4ede-9dd5-8ddf892c0e91",
   "metadata": {},
   "outputs": [],
   "source": [
    "#Loads the jacobians computed from maps without smoothing and noise\n",
    "ps_jac = []\n",
    "for filename in os.listdir(\"/global/cscratch1/sd/dlan/jacobian_ps_pure_maps/jac\"):\n",
    "        res =pickle.load(open(os.path.join('/global/cscratch1/sd/dlan/jacobian_ps_pure_maps/jac', filename), 'rb'))\n",
    "        ps_jac.append(res['jac_ps'])"
   ]
  },
  {
   "cell_type": "code",
   "execution_count": 4,
   "id": "be36025f-2cab-4819-a695-419da72804a6",
   "metadata": {
    "tags": []
   },
   "outputs": [],
   "source": [
    "ps_jac= stack(ps_jac, axis=0)"
   ]
  },
  {
   "cell_type": "code",
   "execution_count": 5,
   "id": "af6ea8af-5cfe-47c9-97b4-ecf389b0f3a2",
   "metadata": {},
   "outputs": [],
   "source": [
    "loglog(ps_jac.mean(axis=0))\n",
    "for i in range(len(ps_jac)):\n",
    "    loglog(ps_jac[i], alpha=0.2)"
   ]
  },
  {
   "cell_type": "code",
   "execution_count": 6,
   "id": "ed24477a-744c-439b-ad6f-bde9f28f8e7d",
   "metadata": {},
   "outputs": [],
   "source": [
    "mu_jac = ps_jac.mean(axis=0)"
   ]
  },
  {
   "cell_type": "code",
   "execution_count": 7,
   "id": "6dff0d5d-e1a2-45fb-a29b-33740b0cb231",
   "metadata": {},
   "outputs": [],
   "source": [
    "# Load maps \n",
    "kmaps = []\n",
    "for filename in os.listdir(\"/global/cscratch1/sd/dlan/maps/maps\"):\n",
    "        res =pickle.load(open(os.path.join('/global/cscratch1/sd/dlan/maps/maps', filename), 'rb'))\n",
    "        kmaps.append(res['kmap'])"
   ]
  },
  {
   "cell_type": "code",
   "execution_count": 8,
   "id": "957f7196-5bb7-43cc-85e0-cd28e779309f",
   "metadata": {},
   "outputs": [],
   "source": [
    "def rebin(a, shape):\n",
    "    sh = shape, a.shape[0] // shape\n",
    "    return tf.math.reduce_mean(tf.reshape(a, sh), axis=-1)"
   ]
  },
  {
   "cell_type": "code",
   "execution_count": 9,
   "id": "91746ca8-696d-4341-8da5-64456d9e066a",
   "metadata": {},
   "outputs": [],
   "source": [
    "# Compute power spectrum\n",
    "ps_maps=[]\n",
    "for m in kmaps:\n",
    "        l, power_spectrum = DHOS.statistics.power_spectrum(m[0], field_size,field_npix)\n",
    "        # Keep only ell between 300 and 3000\n",
    "        ell = l[2:46]\n",
    "        power_spectrum = power_spectrum[2:46]\n",
    "        # Further reducing the nnumber of points\n",
    "        ell = rebin(ell, 11)\n",
    "        power_spectrum = rebin(power_spectrum, 11)\n",
    "        ps_maps.append(power_spectrum)\n",
    "        "
   ]
  },
  {
   "cell_type": "code",
   "execution_count": 10,
   "id": "180770df-eaa5-488f-804d-8dd2e8f5738c",
   "metadata": {},
   "outputs": [],
   "source": [
    "ps_maps=stack(ps_maps, axis=0)\n",
    "mu_ps_maps = ps_maps.mean(axis=0)"
   ]
  },
  {
   "cell_type": "code",
   "execution_count": 11,
   "id": "18f1086c-00eb-4445-92a1-8974cbd6aa43",
   "metadata": {},
   "outputs": [],
   "source": [
    "\n",
    "z_source = np.array([1.])\n",
    "cosmo=jc.Planck15()\n",
    "nz =jc.redshift.delta_nz(z_source)\n",
    "probes = [jc.probes.WeakLensing([nz])] \n",
    "cls = jc.angular_cl.angular_cl(cosmo, l.numpy(), probes)\n"
   ]
  },
  {
   "cell_type": "code",
   "execution_count": 12,
   "id": "840031c0-3ed7-473a-8a04-df31acd89806",
   "metadata": {},
   "outputs": [],
   "source": [
    "ps_halofit=cls[0]\n",
    "l = l[2:46]\n",
    "ps_halofit = ps_halofit[2:46]\n",
    "# Further reducing the nnumber of points\n",
    "l= rebin(l, 11)\n",
    "ps_halofit = rebin(ps_halofit, 11)"
   ]
  },
  {
   "cell_type": "code",
   "execution_count": 13,
   "id": "089c586f-539b-4ccd-8704-592aae624139",
   "metadata": {},
   "outputs": [],
   "source": [
    "style.use('seaborn-whitegrid')\n",
    "loglog(l, l*(l+1)*mu_ps_maps/(2*np.pi),label='DLL')\n",
    "loglog(l, l*(l+1)*ps_halofit/(2*np.pi),'--',label='Analytical $halofit$ predictions')\n",
    "xlim(1e2,1e4)\n",
    "ylim(4e-9,4e-2)\n",
    "axvline(300)\n",
    "axvline(3000)\n",
    "ylabel('$\\ell(\\ell+1)C_\\ell /2\\pi$')\n",
    "xlabel('$\\ell$')\n",
    "legend()"
   ]
  },
  {
   "cell_type": "code",
   "execution_count": 14,
   "id": "f9a82f55-1e98-4397-9c34-74bf8e948f6a",
   "metadata": {},
   "outputs": [],
   "source": [
    "\n",
    "def mean_fn(p):\n",
    "  cosmo = jc.Planck15(Omega_c=p[0], sigma8=p[1])\n",
    "  # Compute signal vector\n",
    "  m = jc.angular_cl.angular_cl(cosmo, l.numpy(), probes)\n",
    "  return m.flatten()\n",
    "jac_mean = jax.jit(jax.jacfwd(mean_fn))\n",
    "params = np.array([cosmo.Omega_c, cosmo.sigma8]) \n",
    "dmu = jac_mean(params)"
   ]
  },
  {
   "cell_type": "code",
   "execution_count": 26,
   "id": "f4c1a2b5-18f4-47d2-a12a-13f09e0b1ccf",
   "metadata": {},
   "outputs": [
    {
     "data": {
      "text/plain": [
       "<matplotlib.legend.Legend at 0x2ab083c00b50>"
      ]
     },
     "execution_count": 26,
     "metadata": {},
     "output_type": "execute_result"
    },
    {
     "data": {
      "image/png": "[encoded data removed]",
      "text/plain": [
       "<Figure size 432x288 with 1 Axes>"
      ]
     },
     "metadata": {},
     "output_type": "display_data"
    }
   ],
   "source": [
    "loglog(l,mu_jac[...,0],label='$\\partial C_{\\ell}/ \\partial \\Omega_C$')\n",
    "loglog(l,dmu[...,0],'--',label='$\\partial C_{\\ell}/ \\partial \\Omega_C$')\n",
    "ylim(4e-11,4e-7)\n",
    "legend()"
   ]
  },
  {
   "cell_type": "code",
   "execution_count": 27,
   "id": "aa40401f-035b-4816-bdaf-f7e37c0995c2",
   "metadata": {},
   "outputs": [
    {
     "data": {
      "text/plain": [
       "<matplotlib.legend.Legend at 0x2ab0825174f0>"
      ]
     },
     "execution_count": 27,
     "metadata": {},
     "output_type": "execute_result"
    },
    {
     "data": {
      "image/png": "[encoded data removed]",
      "text/plain": [
       "<Figure size 432x288 with 1 Axes>"
      ]
     },
     "metadata": {},
     "output_type": "display_data"
    }
   ],
   "source": [
    "loglog(l,mu_jac[...,1],label='$\\partial C_{\\ell}/ \\partial \\sigma_8$')\n",
    "loglog(l,dmu[...,1],'--',label='$\\partial C_{\\ell}/ \\partial \\sigma_8$')\n",
    "legend()"
   ]
  },
  {
   "cell_type": "code",
   "execution_count": 30,
   "id": "d3afc4d4-6b21-4aec-a441-f885cdb9dab2",
   "metadata": {},
   "outputs": [
    {
     "data": {
      "text/plain": [
       "<matplotlib.legend.Legend at 0x2ab0c0245c10>"
      ]
     },
     "execution_count": 30,
     "metadata": {},
     "output_type": "execute_result"
    },
    {
     "data": {
      "image/png": "[encoded data removed]",
      "text/plain": [
       "<Figure size 432x288 with 1 Axes>"
      ]
     },
     "metadata": {},
     "output_type": "display_data"
    }
   ],
   "source": [
    "plot(l,mu_jac[...,0]/ps_halofit,label='$\\partial C_{\\ell}/ \\partial \\Omega_C$')\n",
    "plot(l,dmu[...,0]/ps_halofit,'--',label='$\\partial C_{\\ell}/ \\partial \\Omega_C$')\n",
    "ylim(-1,6)\n",
    "legend()"
   ]
  },
  {
   "cell_type": "code",
   "execution_count": 31,
   "id": "98b06076-9834-4c6a-b463-128903ea02b7",
   "metadata": {},
   "outputs": [
    {
     "data": {
      "text/plain": [
       "<matplotlib.legend.Legend at 0x2ab0c05ee340>"
      ]
     },
     "execution_count": 31,
     "metadata": {},
     "output_type": "execute_result"
    },
    {
     "data": {
      "image/png": "[encoded data removed]",
      "text/plain": [
       "<Figure size 432x288 with 1 Axes>"
      ]
     },
     "metadata": {},
     "output_type": "display_data"
    }
   ],
   "source": [
    "plot(l,mu_jac[...,1]/ps_halofit,label='$\\partial C_{\\ell}/ \\partial \\sigma_8$')\n",
    "plot(l,dmu[...,1]/ps_halofit,'--',label='$\\partial C_{\\ell}/ \\partial \\sigma_8$')\n",
    "ylim(-1,6)\n",
    "legend()"
   ]
  }
 ],
 "metadata": {
  "kernelspec": {
   "display_name": "tfpython",
   "language": "python",
   "name": "tfpython"
  },
  "language_info": {
   "codemirror_mode": {
    "name": "ipython",
    "version": 3
   },
   "file_extension": ".py",
   "mimetype": "text/x-python",
   "name": "python",
   "nbconvert_exporter": "python",
   "pygments_lexer": "ipython3",
   "version": "3.8.5"
  }
 },
 "nbformat": 4,
 "nbformat_minor": 5
}

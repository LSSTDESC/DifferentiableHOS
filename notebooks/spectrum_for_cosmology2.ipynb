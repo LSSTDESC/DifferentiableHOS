{
 "cells": [
  {
   "cell_type": "markdown",
   "metadata": {},
   "source": [
    "<a href=\"https://colab.research.google.com/github/LSSTDESC/DifferentiableHOS/blob/main/notebooks/spectrum_for_cosmology.ipynb\" target=\"_parent\"><img src=\"https://colab.research.google.com/assets/colab-badge.svg\" alt=\"Open In Colab\"/></a>"
   ]
  },
  {
   "cell_type": "code",
   "execution_count": 1,
   "metadata": {},
   "outputs": [
    {
     "name": "stdout",
     "output_type": "stream",
     "text": [
      "Populating the interactive namespace from numpy and matplotlib\n"
     ]
    }
   ],
   "source": [
    "%pylab inline \n",
    "%load_ext autoreload\n",
    "%autoreload 2\n",
    "import tensorflow as tf\n",
    "import numpy as np\n",
    "from flowpm.tfbackground import cosmo,z2a,a2z,rad_comoving_distance, a_of_chi\n",
    "from flowpm.tfpower import linear_matter_power\n",
    "from flowpm.raytracing import  lightcone, Born\n",
    "import flowpm \n",
    "from flowpm.scipy.interpolate import interp_tf"
   ]
  },
  {
   "cell_type": "code",
   "execution_count": 2,
   "metadata": {},
   "outputs": [],
   "source": [
    "nc=[32,32,320]   # size of the cube, number of cells\n",
    "plane_size=32                    # number of pixel for x and  y \n",
    "Boxsize=[200,200,2000]          # Physical size of the cube\n",
    "field=5.\n",
    "n_steps=2"
   ]
  },
  {
   "cell_type": "code",
   "execution_count": 3,
   "metadata": {},
   "outputs": [],
   "source": [
    "import tensorflow as tf\n",
    "import numpy as np\n",
    "\n",
    "def measure_power_spectrum_tf(map_data,field,nc_xy):\n",
    "    \"\"\"\n",
    "    Measures power spectrum or 2d data\n",
    "    \n",
    "    Parameters:\n",
    "    -----------\n",
    "    map_data: map (n x n)\n",
    "    \n",
    "    field: int or float\n",
    "        transveres degres of the field\n",
    "        \n",
    "    nc_xy : int\n",
    "           Number of pixel for x and  y \n",
    "          \n",
    "    Returns\n",
    "    -------\n",
    "    ell: tf.TensorArray\n",
    "    power spectrum: tf.TensorArray\n",
    "    \"\"\"\n",
    "    \n",
    "    def radial_profile_tf(data):\n",
    "        \"\"\"\n",
    "        Compute the radial profile of 2d image\n",
    "        \n",
    "        Parameters:\n",
    "        -----------\n",
    "        data: 2d image\n",
    "        \n",
    "        Returns\n",
    "        -------\n",
    "        radial profile\n",
    "        \"\"\"\n",
    "        center = data.shape[0]/2\n",
    "        y, x = np.indices((data.shape))\n",
    "        r = tf.math.sqrt((x - center)**2 + (y - center)**2)\n",
    "        r=tf.cast(r,dtype=tf.int32)\n",
    "        tbin=tf.math.bincount(tf.reshape(r,[-1]), tf.reshape(data,[-1]))\n",
    "        nr = tf.math.bincount(tf.reshape(r,[-1]))\n",
    "        radialprofile=tf.cast(tbin,dtype=tf.float32)/tf.cast(nr,dtype=tf.float32)\n",
    "        return radialprofile\n",
    "    \n",
    "    \n",
    "    def resolution(field,nc_xy):\n",
    "        \"\"\"\n",
    "        pixel resolution\n",
    "\n",
    "        Returns\n",
    "        -------\n",
    "          float\n",
    "         pixel resolution\n",
    "         \n",
    "        \"\"\"\n",
    "        return  field*60/nc_xy\n",
    "    \n",
    "    def pixel_size_tf(field,nc_xy):\n",
    "        \"\"\"\n",
    "        pixel size\n",
    "\n",
    "        Returns\n",
    "        -------\n",
    "        \n",
    "        pizel size: float\n",
    "        pixel size\n",
    "        \n",
    "        Notes\n",
    "        -----\n",
    "    \n",
    "        The pixels size is given by:\n",
    "    \n",
    "        .. math::\n",
    "    \n",
    "            pixel_size =  =pi * resolution / 180. / 60. #rad/pixel\n",
    "         \n",
    "        \"\"\"\n",
    "        return field/nc_xy / 180 *np.pi \n",
    "    data_ft = tf.signal.fftshift(tf.signal.fft2d(map_data)) / map_data.shape[0]\n",
    "    nyquist = tf.cast(map_data.shape[0]/2,dtype=tf.int32)\n",
    "    power_spectrum = radial_profile_tf(tf.math.real(data_ft*tf.math.conj(data_ft)))[:nyquist]\n",
    "    power_spectrum = power_spectrum*pixel_size_tf(field,nc_xy)**2\n",
    "    return power_spectrum"
   ]
  },
  {
   "cell_type": "code",
   "execution_count": 4,
   "metadata": {},
   "outputs": [],
   "source": [
    "@tf.function\n",
    "def power_spectrum_for_cosmology(\n",
    "              Omega0_m,\n",
    "              sigma8):\n",
    "    cosmology=cosmo.copy()\n",
    "    cosmology['Omega0_m']=tf.convert_to_tensor(Omega0_m,dtype=tf.float32)\n",
    "    cosmology['sigma8']=tf.convert_to_tensor(sigma8,dtype=tf.float32)\n",
    "    a_s=z2a(tf.convert_to_tensor(1.00, dtype=tf.float32))\n",
    "    r = tf.linspace(0,2000,2)\n",
    "    a=a_of_chi(cosmology,r)\n",
    "    ds=rad_comoving_distance(cosmology,a_s)\n",
    "    init_stages = tf.linspace(0.1, a[-1], 2)\n",
    "    \n",
    "    # so, instead of returning the linear matter power spectrum to be computed on the fly\n",
    "    # we can precompute it and return an interpolation function\n",
    "    k = tf.constant(np.logspace(-4, 1, 256), dtype=tf.float32)\n",
    "    pk = linear_matter_power(cosmology, k)\n",
    "    pk_fun = lambda x: tf.cast(tf.reshape(interp_tf(tf.reshape(tf.cast(x, tf.float32), [-1]), k, pk), x.shape), tf.complex64)\n",
    "    \n",
    "    initial_conditions = flowpm.linear_field(nc,    \n",
    "                                            Boxsize, \n",
    "                                             pk_fun,         \n",
    "                                             batch_size=1)\n",
    "    # Sample particles\n",
    "    state = flowpm.lpt_init(initial_conditions, 0.1)   \n",
    "    # Evolve particles down to z=0\n",
    "    final_state = flowpm.nbody(state, init_stages, nc)         \n",
    "    # Retrieve final density field\n",
    "    state, lps_a, lps=lightcone(final_state, a[::-1], \n",
    "                                nc, \n",
    "                                field*60/plane_size, plane_size,\n",
    "                                cosmology)\n",
    "    k_map=Born(lps_a,lps,ds,nc,Boxsize,plane_size,field,cosmology)\n",
    "    k_map=tf.cast(k_map,dtype=tf.complex64)\n",
    "    power_spectrum=measure_power_spectrum_tf(k_map,field,plane_size)\n",
    "    return power_spectrum, k_map"
   ]
  },
  {
   "cell_type": "code",
   "execution_count": 5,
   "metadata": {},
   "outputs": [],
   "source": [
    "@tf.function\n",
    "def compute_jacobian(Omega0_m, sigma8):\n",
    "    Omega0_m=tf.convert_to_tensor(Omega0_m,dtype=tf.float32)\n",
    "    sigma8=tf.convert_to_tensor(sigma8,dtype=tf.float32)\n",
    "    \n",
    "    params = tf.stack([Omega0_m, sigma8])\n",
    "    with tf.GradientTape() as tape:\n",
    "        tape.watch(params)\n",
    "        power_spectrum, kmap= power_spectrum_for_cosmology(\n",
    "              params[0], params[1])\n",
    "        # And we are actually going to try to compress the PS \n",
    "        # to avoid needing too much memory\n",
    "        power_spectrum = power_spectrum[::2] # it should be of size 8\n",
    "    return tape.jacobian(power_spectrum, params,\n",
    "                         experimental_use_pfor=False)"
   ]
  },
  {
   "cell_type": "code",
   "execution_count": 6,
   "metadata": {},
   "outputs": [
    {
     "name": "stdout",
     "output_type": "stream",
     "text": [
      "WARNING:tensorflow:@custom_gradient grad_fn has 'variables' in signature, but no ResourceVariables were used on the forward pass.\n",
      "WARNING:tensorflow:@custom_gradient grad_fn has 'variables' in signature, but no ResourceVariables were used on the forward pass.\n",
      "WARNING:tensorflow:@custom_gradient grad_fn has 'variables' in signature, but no ResourceVariables were used on the forward pass.\n",
      "WARNING:tensorflow:@custom_gradient grad_fn has 'variables' in signature, but no ResourceVariables were used on the forward pass.\n",
      "WARNING:tensorflow:@custom_gradient grad_fn has 'variables' in signature, but no ResourceVariables were used on the forward pass.\n",
      "WARNING:tensorflow:From /local/home/flanusse/.local/lib/python3.8/site-packages/tensorflow_probability/python/math/ode/base.py:459: calling while_loop_v2 (from tensorflow.python.ops.control_flow_ops) with back_prop=False is deprecated and will be removed in a future version.\n",
      "Instructions for updating:\n",
      "back_prop=False is deprecated. Consider using tf.stop_gradient instead.\n",
      "Instead of:\n",
      "results = tf.while_loop(c, b, vars, back_prop=False)\n",
      "Use:\n",
      "results = tf.nest.map_structure(tf.stop_gradient, tf.while_loop(c, b, vars))\n",
      "WARNING:tensorflow:@custom_gradient grad_fn has 'variables' in signature, but no ResourceVariables were used on the forward pass.\n",
      "WARNING:tensorflow:@custom_gradient grad_fn has 'variables' in signature, but no ResourceVariables were used on the forward pass.\n",
      "WARNING:tensorflow:@custom_gradient grad_fn has 'variables' in signature, but no ResourceVariables were used on the forward pass.\n",
      "WARNING:tensorflow:@custom_gradient grad_fn has 'variables' in signature, but no ResourceVariables were used on the forward pass.\n"
     ]
    }
   ],
   "source": [
    "jacobian = compute_jacobian(0.3075,0.8159)"
   ]
  },
  {
   "cell_type": "code",
   "execution_count": 7,
   "metadata": {},
   "outputs": [
    {
     "data": {
      "text/plain": [
       "<tf.Tensor: shape=(8, 2), dtype=float32, numpy=\n",
       "array([[ 5.7298254e-04,  4.9726241e-09],\n",
       "       [ 1.1478999e-07,  4.2208161e-08],\n",
       "       [ 3.6076607e-08,  1.5743144e-08],\n",
       "       [ 1.9482027e-08,  7.7278184e-09],\n",
       "       [ 7.7816518e-09,  5.2178133e-09],\n",
       "       [ 6.0456449e-09,  1.7883484e-09],\n",
       "       [ 4.6106026e-09,  1.1450587e-09],\n",
       "       [ 3.2822087e-09, -2.3425301e-10]], dtype=float32)>"
      ]
     },
     "execution_count": 7,
     "metadata": {},
     "output_type": "execute_result"
    }
   ],
   "source": [
    "jacobian"
   ]
  },
  {
   "cell_type": "code",
   "execution_count": null,
   "metadata": {},
   "outputs": [],
   "source": []
  }
 ],
 "metadata": {
  "kernelspec": {
   "display_name": "Python 3",
   "language": "python",
   "name": "python3"
  },
  "language_info": {
   "codemirror_mode": {
    "name": "ipython",
    "version": 3
   },
   "file_extension": ".py",
   "mimetype": "text/x-python",
   "name": "python",
   "nbconvert_exporter": "python",
   "pygments_lexer": "ipython3",
   "version": "3.8.3"
  }
 },
 "nbformat": 4,
 "nbformat_minor": 4
}

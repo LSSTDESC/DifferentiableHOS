{
 "cells": [
  {
   "cell_type": "code",
   "execution_count": 1,
   "id": "0a4030df-f7f4-41ad-8d3d-f06d5518c919",
   "metadata": {},
   "outputs": [
    {
     "name": "stdout",
     "output_type": "stream",
     "text": [
      "Populating the interactive namespace from numpy and matplotlib\n"
     ]
    }
   ],
   "source": [
    "import os\n",
    "%pylab inline\n",
    "import numpy as np\n",
    "import pyccl as ccl\n",
    "from scipy.stats import norm\n",
    "import pickle \n",
    "import DifferentiableHOS as DHOS\n",
    "import jax_cosmo as jc"
   ]
  },
  {
   "cell_type": "code",
   "execution_count": 2,
   "id": "21c3daf5-af79-4dd9-9444-eeb5be455862",
   "metadata": {},
   "outputs": [
    {
     "data": {
      "image/png": "[encoded data removed]",
      "text/plain": [
       "<Figure size 432x288 with 1 Axes>"
      ]
     },
     "metadata": {
      "needs_background": "light"
     },
     "output_type": "display_data"
    }
   ],
   "source": [
    "x_axis = np.arange(-4, 4, 0.001)\n",
    "# Mean = 0, SD = 2.\n",
    "plt.plot(x_axis, norm.pdf(x_axis,-1,0.8))\n",
    "plt.show()"
   ]
  },
  {
   "cell_type": "code",
   "execution_count": 3,
   "id": "dbac0fe9-401c-4dfc-b0f9-69a27fcdd511",
   "metadata": {},
   "outputs": [],
   "source": [
    "l = np.logspace(2,np.log10(3_000))"
   ]
  },
  {
   "cell_type": "code",
   "execution_count": 4,
   "id": "863ae312-33e2-4389-9f34-e06281f24088",
   "metadata": {},
   "outputs": [],
   "source": [
    "cosmo_ccl = ccl.Cosmology(\n",
    "    Omega_c=0.2589, Omega_b=0.0486, \n",
    "    h=0.6774, sigma8 = 0.8159, n_s=0.9667, Neff=0,w0=1.5,\n",
    "    transfer_function='eisenstein_hu', matter_power_spectrum='halofit')"
   ]
  },
  {
   "cell_type": "code",
   "execution_count": 5,
   "id": "86d87e88-59f7-4d06-92b6-4ee3dd98725a",
   "metadata": {},
   "outputs": [],
   "source": [
    "z_source=0.913446 "
   ]
  },
  {
   "cell_type": "code",
   "execution_count": 6,
   "id": "399a6721-c9a0-4093-a883-0d06fcaafc91",
   "metadata": {},
   "outputs": [],
   "source": [
    "z = linspace(0,2,2048)\n",
    "pz=norm.pdf(z,loc=z_source,scale=0.03)\n"
   ]
  },
  {
   "cell_type": "code",
   "execution_count": 7,
   "id": "a9819246-0c74-4193-b34d-d37566380952",
   "metadata": {},
   "outputs": [],
   "source": [
    "tracers= ccl.WeakLensingTracer(cosmo_ccl, (z ,pz),use_A_ia=False )\n",
    "cl=ccl.angular_cl(cosmo_ccl, tracers, tracers, l)"
   ]
  },
  {
   "cell_type": "code",
   "execution_count": 8,
   "id": "134c1bf6-8bd6-4c7c-8dc5-2d84010180c8",
   "metadata": {},
   "outputs": [
    {
     "name": "stderr",
     "output_type": "stream",
     "text": [
      "WARNING:absl:No GPU/TPU found, falling back to CPU. (Set TF_CPP_MIN_LOG_LEVEL=0 and rerun for more info.)\n",
      "/global/homes/d/dlan/.local/cori/3.8-anaconda-2020.11/lib/python3.8/site-packages/jax/_src/numpy/lax_numpy.py:5293: UserWarning: Explicitly requested dtype <class 'jax._src.numpy.lax_numpy.int64'> requested in astype is not available, and will be truncated to dtype int32. To enable more dtypes, set the jax_enable_x64 configuration option or the JAX_ENABLE_X64 shell environment variable. See https://github.com/google/jax#current-gotchas for more.\n",
      "  lax._check_user_dtype_supported(dtype, \"astype\")\n"
     ]
    }
   ],
   "source": [
    "cosmo=jc.Planck15(Omega_b=0.0486,Omega_c=0.2589, Omega_k=0,n_s=0.9667, sigma8=0.8159, w0=1.5, wa=0.0)\n",
    "z = linspace(0,2,1024)\n",
    "nz=[jc.redshift.delta_nz(0.91)]\n",
    "probes=[ jc.probes.WeakLensing(nz, sigma_e=0.26)]\n",
    "cls = jc.angular_cl.angular_cl(cosmo, l, probes)"
   ]
  },
  {
   "cell_type": "code",
   "execution_count": 9,
   "id": "db7f0e7c-55cc-43fc-b6bd-e67f435c7452",
   "metadata": {},
   "outputs": [
    {
     "data": {
      "image/png": "[encoded data removed]",
      "text/plain": [
       "<Figure size 432x288 with 1 Axes>"
      ]
     },
     "metadata": {
      "needs_background": "light"
     },
     "output_type": "display_data"
    }
   ],
   "source": [
    "fig, ax = plt.subplots()\n",
    "plt.semilogx(l,cl/cls[0]-1)\n",
    "plt.grid(True)\n",
    "#xlim(3e2,3e3)\n",
    "ylim(-1,1)\n",
    "ylabel('$C_{\\kappa}^{CCL}(\\ell)/C_{\\kappa}^{Jax}(\\ell)-1$',fontsize=16)\n",
    "xlabel('$\\ell$',fontsize=16)\n",
    "#legend(fontsize='large',ncol=3,loc='upper right')\n",
    "plt.tight_layout()\n",
    "#plt.savefig('../figures/res_cls_DLL_vs_ktng.pdf',bbox_inches='tight')\n",
    "\n"
   ]
  },
  {
   "cell_type": "code",
   "execution_count": 10,
   "id": "8c86cfeb-90df-4aee-8bf5-4a649375b32d",
   "metadata": {},
   "outputs": [
    {
     "data": {
      "text/plain": [
       "DeviceArray([nan, nan, nan, nan, nan, nan, nan, nan, nan, nan, nan, nan,\n",
       "             nan, nan, nan, nan, nan, nan, nan, nan, nan, nan, nan, nan,\n",
       "             nan, nan, nan, nan, nan, nan, nan, nan, nan, nan, nan, nan,\n",
       "             nan, nan, nan, nan, nan, nan, nan, nan, nan, nan, nan, nan,\n",
       "             nan, nan], dtype=float32)"
      ]
     },
     "execution_count": 10,
     "metadata": {},
     "output_type": "execute_result"
    }
   ],
   "source": [
    "cls[0]"
   ]
  },
  {
   "cell_type": "code",
   "execution_count": 11,
   "id": "8b74d364-420f-4d6a-9b41-3ec3fc8bf3af",
   "metadata": {},
   "outputs": [
    {
     "data": {
      "text/plain": [
       "\u001b[0;31mSignature:\u001b[0m \u001b[0mjc\u001b[0m\u001b[0;34m.\u001b[0m\u001b[0mbackground\u001b[0m\u001b[0;34m.\u001b[0m\u001b[0mf_de\u001b[0m\u001b[0;34m(\u001b[0m\u001b[0mcosmo\u001b[0m\u001b[0;34m,\u001b[0m \u001b[0ma\u001b[0m\u001b[0;34m)\u001b[0m\u001b[0;34m\u001b[0m\u001b[0;34m\u001b[0m\u001b[0m\n",
       "\u001b[0;31mDocstring:\u001b[0m\n",
       "Evolution parameter for the Dark Energy density.\n",
       "\n",
       "Parameters\n",
       "----------\n",
       "a : array_like\n",
       "    Scale factor\n",
       "\n",
       "Returns\n",
       "-------\n",
       "f : ndarray, or float if input scalar\n",
       "    The evolution parameter of the Dark Energy density as a function\n",
       "    of scale factor\n",
       "\n",
       "Notes\n",
       "-----\n",
       "\n",
       "For a given parametrisation of the Dark Energy equation of state,\n",
       "the scaling of the Dark Energy density with time can be written as:\n",
       "\n",
       ".. math::\n",
       "\n",
       "    \\rho_{de}(a) \\propto a^{f(a)}\n",
       "\n",
       "(see :cite:`2005:Percival`) where :math:`f(a)` is computed as\n",
       ":math:`f(a) = \\frac{-3}{\\ln(a)} \\int_0^{\\ln(a)} [1 + w(a^\\prime)]\n",
       "d \\ln(a^\\prime)`. In the case of Linder's parametrisation for the\n",
       "dark energy in Eq. :eq:`linderParam` :math:`f(a)` becomes:\n",
       "\n",
       ".. math::\n",
       "\n",
       "    f(a) = -3(1 + w_0) + 3 w \\left[ \\frac{a - 1}{ \\ln(a) } - 1 \\right]\n",
       "    \n",
       "\u001b[0;31mSource:\u001b[0m   \n",
       "\u001b[0;32mdef\u001b[0m \u001b[0mf_de\u001b[0m\u001b[0;34m(\u001b[0m\u001b[0mcosmo\u001b[0m\u001b[0;34m,\u001b[0m \u001b[0ma\u001b[0m\u001b[0;34m)\u001b[0m\u001b[0;34m:\u001b[0m\u001b[0;34m\u001b[0m\n",
       "\u001b[0;34m\u001b[0m    \u001b[0;34mr\"\"\"Evolution parameter for the Dark Energy density.\u001b[0m\n",
       "\u001b[0;34m\u001b[0m\n",
       "\u001b[0;34m    Parameters\u001b[0m\n",
       "\u001b[0;34m    ----------\u001b[0m\n",
       "\u001b[0;34m    a : array_like\u001b[0m\n",
       "\u001b[0;34m        Scale factor\u001b[0m\n",
       "\u001b[0;34m\u001b[0m\n",
       "\u001b[0;34m    Returns\u001b[0m\n",
       "\u001b[0;34m    -------\u001b[0m\n",
       "\u001b[0;34m    f : ndarray, or float if input scalar\u001b[0m\n",
       "\u001b[0;34m        The evolution parameter of the Dark Energy density as a function\u001b[0m\n",
       "\u001b[0;34m        of scale factor\u001b[0m\n",
       "\u001b[0;34m\u001b[0m\n",
       "\u001b[0;34m    Notes\u001b[0m\n",
       "\u001b[0;34m    -----\u001b[0m\n",
       "\u001b[0;34m\u001b[0m\n",
       "\u001b[0;34m    For a given parametrisation of the Dark Energy equation of state,\u001b[0m\n",
       "\u001b[0;34m    the scaling of the Dark Energy density with time can be written as:\u001b[0m\n",
       "\u001b[0;34m\u001b[0m\n",
       "\u001b[0;34m    .. math::\u001b[0m\n",
       "\u001b[0;34m\u001b[0m\n",
       "\u001b[0;34m        \\rho_{de}(a) \\propto a^{f(a)}\u001b[0m\n",
       "\u001b[0;34m\u001b[0m\n",
       "\u001b[0;34m    (see :cite:`2005:Percival`) where :math:`f(a)` is computed as\u001b[0m\n",
       "\u001b[0;34m    :math:`f(a) = \\frac{-3}{\\ln(a)} \\int_0^{\\ln(a)} [1 + w(a^\\prime)]\u001b[0m\n",
       "\u001b[0;34m    d \\ln(a^\\prime)`. In the case of Linder's parametrisation for the\u001b[0m\n",
       "\u001b[0;34m    dark energy in Eq. :eq:`linderParam` :math:`f(a)` becomes:\u001b[0m\n",
       "\u001b[0;34m\u001b[0m\n",
       "\u001b[0;34m    .. math::\u001b[0m\n",
       "\u001b[0;34m\u001b[0m\n",
       "\u001b[0;34m        f(a) = -3(1 + w_0) + 3 w \\left[ \\frac{a - 1}{ \\ln(a) } - 1 \\right]\u001b[0m\n",
       "\u001b[0;34m        \u001b[0m\n",
       "\u001b[0;34m    \"\"\"\u001b[0m\u001b[0;34m\u001b[0m\n",
       "\u001b[0;34m\u001b[0m    \u001b[0;31m# Just to make sure we are not diving by 0\u001b[0m\u001b[0;34m\u001b[0m\n",
       "\u001b[0;34m\u001b[0m    \u001b[0mepsilon\u001b[0m \u001b[0;34m=\u001b[0m \u001b[0mnp\u001b[0m\u001b[0;34m.\u001b[0m\u001b[0mfinfo\u001b[0m\u001b[0;34m(\u001b[0m\u001b[0mnp\u001b[0m\u001b[0;34m.\u001b[0m\u001b[0mfloat32\u001b[0m\u001b[0;34m)\u001b[0m\u001b[0;34m.\u001b[0m\u001b[0meps\u001b[0m\u001b[0;34m\u001b[0m\n",
       "\u001b[0;34m\u001b[0m    \u001b[0;32mreturn\u001b[0m \u001b[0;34m-\u001b[0m\u001b[0;36m3.0\u001b[0m \u001b[0;34m*\u001b[0m \u001b[0;34m(\u001b[0m\u001b[0;36m1.0\u001b[0m \u001b[0;34m+\u001b[0m \u001b[0mcosmo\u001b[0m\u001b[0;34m.\u001b[0m\u001b[0mw0\u001b[0m\u001b[0;34m)\u001b[0m \u001b[0;34m+\u001b[0m \u001b[0;36m3.0\u001b[0m \u001b[0;34m*\u001b[0m \u001b[0mcosmo\u001b[0m\u001b[0;34m.\u001b[0m\u001b[0mwa\u001b[0m \u001b[0;34m*\u001b[0m \u001b[0;34m(\u001b[0m\u001b[0;34m\u001b[0m\n",
       "\u001b[0;34m\u001b[0m       \u001b[0;34m(\u001b[0m\u001b[0ma\u001b[0m \u001b[0;34m-\u001b[0m \u001b[0;36m1.0\u001b[0m\u001b[0;34m)\u001b[0m \u001b[0;34m/\u001b[0m \u001b[0mnp\u001b[0m\u001b[0;34m.\u001b[0m\u001b[0mlog\u001b[0m\u001b[0;34m(\u001b[0m\u001b[0ma\u001b[0m \u001b[0;34m-\u001b[0m \u001b[0mepsilon\u001b[0m\u001b[0;34m)\u001b[0m \u001b[0;34m-\u001b[0m \u001b[0;36m1.0\u001b[0m\u001b[0;34m\u001b[0m\n",
       "\u001b[0;34m\u001b[0m    \u001b[0;34m)\u001b[0m\u001b[0;34m\u001b[0m\u001b[0;34m\u001b[0m\u001b[0m\n",
       "\u001b[0;31mFile:\u001b[0m      ~/.local/cori/3.8-anaconda-2020.11/lib/python3.8/site-packages/jax_cosmo/background.py\n",
       "\u001b[0;31mType:\u001b[0m      function\n"
      ]
     },
     "metadata": {},
     "output_type": "display_data"
    }
   ],
   "source": [
    "jc.background.f_de??"
   ]
  }
 ],
 "metadata": {
  "kernelspec": {
   "display_name": "tfpython",
   "language": "python",
   "name": "tfpython"
  },
  "language_info": {
   "codemirror_mode": {
    "name": "ipython",
    "version": 3
   },
   "file_extension": ".py",
   "mimetype": "text/x-python",
   "name": "python",
   "nbconvert_exporter": "python",
   "pygments_lexer": "ipython3",
   "version": "3.8.5"
  }
 },
 "nbformat": 4,
 "nbformat_minor": 5
}

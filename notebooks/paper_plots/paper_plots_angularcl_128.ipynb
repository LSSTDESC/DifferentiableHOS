{
 "cells": [
  {
   "cell_type": "markdown",
   "id": "01010038-2a50-49fb-9a34-ea88ede443b7",
   "metadata": {},
   "source": [
    "# Prototyping Settings for Simplistic DESC SRD Y1 after PGD implementation \n",
    "\n",
    "For reference, the DESC SRD can be found [here](https://arxiv.org/pdf/1809.01669.pdf). Appendix D2 specifies some of the analysis choices for the Y1 data. \n",
    "\n",
    "In particular:\n",
    "- neff for lensing sources: 10 gal/arcmin^2\n",
    "- sigma_e: 0.26 per component\n",
    "- lmax: 3000\n",
    "\n",
    "\n",
    "In this notebook, we will see the effects of the PGD implemantion and scale resolution factor B=2 on the angular power spectrum. \\\n",
    "We will use a kappa TNG map as a reference point."
   ]
  },
  {
   "cell_type": "code",
   "execution_count": 1,
   "id": "4a838586-6181-4e9c-ae5f-df5a4fc6baab",
   "metadata": {},
   "outputs": [
    {
     "name": "stdout",
     "output_type": "stream",
     "text": [
      "Populating the interactive namespace from numpy and matplotlib\n"
     ]
    }
   ],
   "source": [
    "%pylab inline \n",
    "import tensorflow_addons as tfa\n",
    "import tensorflow as tf\n",
    "import flowpm\n",
    "from flowpm.tfpower import linear_matter_power\n",
    "import DifferentiableHOS as DHOS\n",
    "import flowpm.scipy.interpolate as interpolate\n",
    "import pickle\n",
    "from flowpm import tfpm\n",
    "import jax_cosmo as jc\n",
    "import jax_cosmo.power as power\n",
    "from DifferentiableHOS.pk import pk as pkl"
   ]
  },
  {
   "cell_type": "code",
   "execution_count": 2,
   "id": "187d1ca2-5588-4ff7-88d6-ef6c968104ca",
   "metadata": {},
   "outputs": [],
   "source": [
    "n_lens = 20\n",
    "box_size= 128.     \n",
    "nc=128\n",
    "field_size = 5.   \n",
    "field_npix = 1024\n",
    "B=2\n",
    "batch_size = 1 \n",
    "z_source = np.array([1.])"
   ]
  },
  {
   "cell_type": "code",
   "execution_count": 3,
   "id": "342ea098-0d87-44d6-a132-a87af108b3ad",
   "metadata": {},
   "outputs": [
    {
     "name": "stdout",
     "output_type": "stream",
     "text": [
      "WARNING:tensorflow:@custom_gradient grad_fn has 'variables' in signature, but no ResourceVariables were used on the forward pass.\n"
     ]
    }
   ],
   "source": [
    "cosmology = flowpm.cosmology.Planck15()\n",
    "r = tf.linspace(0., box_size*n_lens, n_lens+1)\n",
    "r_center = 0.5*(r[1:] + r[:-1])\n",
    "a = flowpm.tfbackground.a_of_chi(cosmology, r)\n",
    "a_center =flowpm.tfbackground.a_of_chi(cosmology, r_center)\n",
    "init_stages = tf.linspace(0.1, a[-1], 20)\n",
    "stages = tf.concat([init_stages, a_center.numpy()[::-1]], axis=0)\n"
   ]
  },
  {
   "cell_type": "code",
   "execution_count": 4,
   "id": "cf7aaa96-4dc1-41fa-a783-f231eab66780",
   "metadata": {},
   "outputs": [
    {
     "name": "stdout",
     "output_type": "stream",
     "text": [
      "WARNING:tensorflow:@custom_gradient grad_fn has 'variables' in signature, but no ResourceVariables were used on the forward pass.\n"
     ]
    }
   ],
   "source": [
    "k = tf.constant(np.logspace(-4, 1, 512), dtype=tf.float32)\n",
    "pk = linear_matter_power(cosmology, k)\n",
    "pk_fun = lambda x: tf.cast(tf.reshape(interpolate.interp_tf(tf.reshape(tf.cast(x, tf.float32), [-1]), k, pk), x.shape), tf.complex64)\n",
    "initial_conditions = flowpm.linear_field(\n",
    "      [nc, nc, nc],\n",
    "      [box_size, box_size, box_size],\n",
    "      pk_fun,\n",
    "      batch_size=1)\n",
    "initial_state = flowpm.lpt_init(cosmology, initial_conditions, 0.1)"
   ]
  },
  {
   "cell_type": "code",
   "execution_count": 5,
   "id": "cd1eca63-a27c-41f7-bcb2-b06f8edc62ee",
   "metadata": {},
   "outputs": [],
   "source": [
    "states = flowpm.nbody(cosmology,\n",
    "                        initial_state,\n",
    "                    stages, [nc, nc, nc],\n",
    "                    pm_nc_factor=B,\n",
    "                    return_intermediate_states=True)"
   ]
  },
  {
   "cell_type": "markdown",
   "id": "658520e4-65e5-4f6d-9d3b-4c77d4b2e86b",
   "metadata": {},
   "source": [
    "# Implementation of PGD"
   ]
  },
  {
   "cell_type": "markdown",
   "id": "2a24865b-7824-40b5-b668-202458e6f566",
   "metadata": {},
   "source": [
    "The following parameters of PGD are selected from the following [notebook](https://github.com/VMBoehm/MADLens/blob/3d024515098bb591e5c7f7b4e34b7e1903f8c3ab/notebooks/PGD_params.ipynb) by [Boehm et al. 2020](https://arxiv.org/abs/2012.07266)\\\n",
    "Only the alpha0 parameter is selected after the calibration computed in our [notebook](https://github.com/DifferentiableUniverseInitiative/flowpm/blob/09352ec99a96cfd52e6b7bee2c433eea6f962360/notebooks/dev/PGD_test.ipynb)\n"
   ]
  },
  {
   "cell_type": "code",
   "execution_count": 6,
   "id": "f94203bd-9671-43d3-913c-cc6a057e80f3",
   "metadata": {},
   "outputs": [],
   "source": [
    "PGD_param=pickle.load( open(\"/global/u1/d/dlan/flowpm/notebooks/pgd_params/pgd_params_2_1_40.pkl\", \"rb\" ) )"
   ]
  },
  {
   "cell_type": "code",
   "execution_count": 7,
   "id": "60ac55cf-5644-475e-ade2-089e5ef42820",
   "metadata": {},
   "outputs": [],
   "source": [
    "alpha0=0.01\n",
    "mu=PGD_param['mu']\n",
    "kl=PGD_param['kl']*0.7*0.5/(nc*B/ box_size)\n",
    "ks=PGD_param['ks']*0.7*0.5/(nc*B/ box_size)"
   ]
  },
  {
   "cell_type": "markdown",
   "id": "479b8495-a5bb-4364-a346-effd253d0173",
   "metadata": {},
   "source": [
    "Let's compute the displacement:"
   ]
  },
  {
   "cell_type": "code",
   "execution_count": 8,
   "id": "0ed177a0-cfcc-4fef-935c-a091df5a6930",
   "metadata": {},
   "outputs": [],
   "source": [
    "dx=[]\n",
    "for i in range(len(states)):\n",
    "    alpha=alpha0*states[i][0]**mu\n",
    "    dx.append(tfpm.PGD_correction(states[i][1],[nc,nc,nc],alpha,kl,ks,pm_nc_factor=B))\n"
   ]
  },
  {
   "cell_type": "code",
   "execution_count": 9,
   "id": "394836ec-b077-46f8-b237-e6c2358f50ac",
   "metadata": {},
   "outputs": [],
   "source": [
    "cosmo=jc.Planck15()"
   ]
  },
  {
   "cell_type": "markdown",
   "id": "701a5cc2-a85a-49c3-be9a-dc89f9ea0a62",
   "metadata": {},
   "source": [
    "Check that everything works properly comparing the matter power spectrum to theoretical one "
   ]
  },
  {
   "cell_type": "code",
   "execution_count": 10,
   "id": "5b6ffc27-a65e-4c26-8cd4-fdc21b581973",
   "metadata": {},
   "outputs": [
    {
     "name": "stderr",
     "output_type": "stream",
     "text": [
      "WARNING:absl:No GPU/TPU found, falling back to CPU. (Set TF_CPP_MIN_LOG_LEVEL=0 and rerun for more info.)\n",
      "/global/homes/d/dlan/.local/cori/3.8-anaconda-2020.11/lib/python3.8/site-packages/jax/_src/numpy/lax_numpy.py:5293: UserWarning: Explicitly requested dtype <class 'jax._src.numpy.lax_numpy.int64'> requested in astype is not available, and will be truncated to dtype int32. To enable more dtypes, set the jax_enable_x64 configuration option or the JAX_ENABLE_X64 shell environment variable. See https://github.com/google/jax#current-gotchas for more.\n",
      "  lax._check_user_dtype_supported(dtype, \"astype\")\n"
     ]
    }
   ],
   "source": [
    "new_states=[]\n",
    "pk_array=[]\n",
    "pk_array1=[]\n",
    "pk_jax=[]\n",
    "for i in range(len(states)):\n",
    "    new_states.append(dx[i]+states[i][1][0])\n",
    "    final_field = flowpm.cic_paint(tf.zeros_like(initial_conditions), new_states[i])\n",
    "    final_field=tf.reshape(final_field, [nc, nc, nc])\n",
    "    k, power_spectrum = pkl(final_field,shape=final_field.shape,boxsize=np.array([box_size, box_size,\n",
    "                                             box_size]),kmin=0.1,dk=2*np.pi/box_size)\n",
    "    final_field1 = flowpm.cic_paint(tf.zeros_like(initial_conditions), states[i][1][0])\n",
    "    final_field1=tf.reshape(final_field1, [nc, nc, nc])\n",
    "    k1, power_spectrum1 = pkl(final_field1,shape=final_field.shape,boxsize=np.array([box_size, box_size,\n",
    "                                         box_size]),kmin=0.1,dk=2*np.pi/box_size)\n",
    "    pk_array.append(power_spectrum)\n",
    "    pk_jax.append(power.nonlinear_matter_power(cosmo, k, states[i][0]))\n",
    "    pk_array1.append(power_spectrum1)\n",
    "    "
   ]
  },
  {
   "cell_type": "code",
   "execution_count": 11,
   "id": "c48b61ff-66b7-4d40-af0c-38dca8111473",
   "metadata": {},
   "outputs": [],
   "source": [
    "def trim_axs(axs, N):\n",
    "    \"\"\"\n",
    "    Reduce *axs* to *N* Axes. All further Axes are removed from the figure.\n",
    "    \"\"\"\n",
    "    axs = axs.flat\n",
    "    for ax in axs[N:]:\n",
    "        ax.remove()\n",
    "    return axs[:N]"
   ]
  },
  {
   "cell_type": "code",
   "execution_count": 12,
   "id": "45adf03f-c03b-4ad0-afd7-3cac1a821369",
   "metadata": {},
   "outputs": [
    {
     "ename": "SyntaxError",
     "evalue": "invalid syntax (<ipython-input-12-aff4561ef96e>, line 15)",
     "output_type": "error",
     "traceback": [
      "\u001b[0;36m  File \u001b[0;32m\"<ipython-input-12-aff4561ef96e>\"\u001b[0;36m, line \u001b[0;32m15\u001b[0m\n\u001b[0;31m    ax.set_ylabel('$P_k$')c\u001b[0m\n\u001b[0m                          ^\u001b[0m\n\u001b[0;31mSyntaxError\u001b[0m\u001b[0;31m:\u001b[0m invalid syntax\n"
     ]
    }
   ],
   "source": [
    "figsize = (23, 10)\n",
    "fig =plt.figure(figsize=figsize, constrained_layout=True)\n",
    "cols = 7\n",
    "rows =6\n",
    "axs = fig.subplots(rows, cols)\n",
    "axs = trim_axs(axs, len(pk_array))\n",
    "\n",
    "for ax, pi in zip(axs, pk_array):\n",
    "    ax.loglog(k, pi,label='DLL with PGD')\n",
    "for ax, px in zip(axs, pk_array1):\n",
    "    ax.loglog(k, px,label='DLL without PGD')\n",
    "for ax, pj in zip(axs, pk_jax):\n",
    "    ax.loglog(k, pj,'--',label='Analytical $halofit$ predictions')\n",
    "    ax.set_xlabel('k')\n",
    "    ax.set_ylabel('$P_k$')c\n",
    "legend(loc='lower left')"
   ]
  },
  {
   "cell_type": "markdown",
   "id": "6d770fe0-5603-4145-a4c7-903ed4f0f8ed",
   "metadata": {},
   "source": [
    "Implement the raytracing"
   ]
  },
  {
   "cell_type": "code",
   "execution_count": null,
   "id": "3cff59f6-2c40-4ab1-8196-fe4d86b11dd2",
   "metadata": {},
   "outputs": [],
   "source": [
    "lensplanes = []\n",
    "lensplanes1 = []\n",
    "for i in range(len(a_center)):\n",
    "    plane = flowpm.raytracing.density_plane(new_states[::-1][i],\n",
    "                                            [nc, nc, nc],\n",
    "                                            nc//2,\n",
    "                                            width=nc,\n",
    "                                            plane_resolution=256,\n",
    "                                            shift=flowpm.raytracing.random_2d_shift())\n",
    "    plane1 = flowpm.raytracing.density_plane(states[::-1][i][1],\n",
    "                                            [nc, nc, nc],\n",
    "                                            nc//2,\n",
    "                                            width=nc,\n",
    "                                            plane_resolution=256,\n",
    "                                            shift=flowpm.raytracing.random_2d_shift())\n",
    "    \n",
    "    plane = tf.expand_dims(plane, axis=-1)\n",
    "    plane = tf.image.random_flip_left_right(plane)\n",
    "    plane = tf.image.random_flip_up_down(plane)\n",
    "    plane1 = tf.expand_dims(plane1, axis=-1)\n",
    "    plane1 = tf.image.random_flip_left_right(plane1)\n",
    "    plane1 = tf.image.random_flip_up_down(plane1)\n",
    "    lensplanes.append((r_center[i], states[::-1][i][0], plane[...,0]))\n",
    "    lensplanes1.append((r_center[i], states[::-1][i][0], plane1[...,0]))\n"
   ]
  },
  {
   "cell_type": "code",
   "execution_count": null,
   "id": "5acbcd37-1544-4f77-9488-04c1fdb9315c",
   "metadata": {},
   "outputs": [],
   "source": [
    "import astropy.units as u\n",
    "xgrid, ygrid = np.meshgrid(np.linspace(0, field_size, field_npix, endpoint=False), # range of X coordinates\n",
    "                           np.linspace(0, field_size, field_npix, endpoint=False)) # range of Y coordinates\n",
    "\n",
    "coords = np.stack([xgrid, ygrid], axis=0)*u.deg\n",
    "c = coords.reshape([2, -1]).T.to(u.rad)\n",
    "\n",
    "\n",
    "m = flowpm.raytracing.convergenceBorn(cosmology, \n",
    "                    lensplanes, \n",
    "                    dx=box_size/256, \n",
    "                    dz=box_size,\n",
    "                    coords=c,\n",
    "                    z_source=z_source)\n",
    "\n",
    "m1 = flowpm.raytracing.convergenceBorn(cosmology, \n",
    "                    lensplanes1, \n",
    "                    dx=box_size/256, \n",
    "                    dz=box_size,\n",
    "                    coords=c,\n",
    "                    z_source=z_source)\n",
    "\n",
    "\n",
    "m = m.numpy().reshape([batch_size, field_npix, field_npix])\n",
    "m1 = m1.numpy().reshape([batch_size, field_npix, field_npix])"
   ]
  },
  {
   "cell_type": "code",
   "execution_count": null,
   "id": "4a39532a-88b8-4163-a83e-8b87688ffc90",
   "metadata": {},
   "outputs": [],
   "source": [
    "imshow(m[0],vmax=0.15)\n",
    "colorbar()"
   ]
  },
  {
   "cell_type": "code",
   "execution_count": null,
   "id": "550f7e1b-4aa1-4402-bd24-af345da0f3a0",
   "metadata": {},
   "outputs": [],
   "source": [
    "imshow(m1[0],vmax=0.15)\n",
    "colorbar()"
   ]
  },
  {
   "cell_type": "code",
   "execution_count": null,
   "id": "c6dc2588-2b5c-48c4-9755-301cc9395ff3",
   "metadata": {},
   "outputs": [],
   "source": [
    "l, ps= DHOS.statistics.power_spectrum(m[0],field_size,field_npix)\n",
    "l1, ps1= DHOS.statistics.power_spectrum(m1[0],field_size,field_npix)\n"
   ]
  },
  {
   "cell_type": "code",
   "execution_count": null,
   "id": "49ba2fd6-a5df-43ea-8397-057b79c65214",
   "metadata": {},
   "outputs": [],
   "source": [
    "nz =jc.redshift.delta_nz(z_source)\n",
    "probes = [jc.probes.WeakLensing([nz])] \n",
    "cls = jc.angular_cl.angular_cl(cosmo, l.numpy(), probes)\n"
   ]
  },
  {
   "cell_type": "code",
   "execution_count": null,
   "id": "e1c26f74-a555-463d-903f-18b3f9f07d26",
   "metadata": {},
   "outputs": [],
   "source": [
    "loglog(l, l*(l+1)*ps/(2*np.pi),label='DLL with PGD ')\n",
    "loglog(l, l*(l+1)*ps1/(2*np.pi),label='DLL without PGD')\n",
    "loglog(l, l*(l+1)*cls[0]/(2*np.pi),'--',label='Analytical $halofit$ predictions')\n",
    "xlim(1e2,1e4)\n",
    "#ylim(4e-9,4e-2)\n",
    "#axvline(300)\n",
    "axvline(3000)\n",
    "ylabel('$\\ell(\\ell+1)C_\\ell /2\\pi$')\n",
    "xlabel('$\\ell$')\n",
    "legend()\n",
    "#savefig('cl_comp1.png',dpi=250)"
   ]
  },
  {
   "cell_type": "markdown",
   "id": "44aaddb5-f485-4e18-a80c-35be811d8f9b",
   "metadata": {},
   "source": [
    "## Comparison to kappa TNG\n",
    "\n",
    "For comparison, we are using this map at redshift 1 from the kappa TNG simulations."
   ]
  },
  {
   "cell_type": "code",
   "execution_count": null,
   "id": "4854536c-564f-4d89-a96d-a4509df18498",
   "metadata": {},
   "outputs": [],
   "source": [
    "kTNG = np.load('kappa_tng.npy')"
   ]
  },
  {
   "cell_type": "markdown",
   "id": "5e36ab06-0eeb-41e9-ac48-673c94ccde9e",
   "metadata": {},
   "source": [
    "So, obvioulsy our 128^3 simulation is not as precise as kappa TNG, but we won't be working at the native 0.3 arcmin resolution anyway, in practice we'll have noise and smoothing.\n",
    "\n",
    "So let's see how much smoothing gets us in the right ball park."
   ]
  },
  {
   "cell_type": "code",
   "execution_count": null,
   "id": "d3bf0fc9-c480-4841-bc67-7194d3670857",
   "metadata": {},
   "outputs": [],
   "source": [
    "ngal = 10                          # gal/arcmin **2\n",
    "pix_scale = 5/1024*60              # arcmin\n",
    "ngal_per_pix = ngal * pix_scale**2 # galaxies per pixels (I think)\n",
    "sigma_e = 0.26 / sqrt(2 * ngal_per_pix) # Rescaled noise sigma"
   ]
  },
  {
   "cell_type": "code",
   "execution_count": null,
   "id": "b91d153b-e982-43bb-b687-6bdf3b0e8223",
   "metadata": {},
   "outputs": [],
   "source": [
    "sigma_pix_2ar=2/pix_scale\n",
    "sigma_pix_3ar=3/pix_scale"
   ]
  },
  {
   "cell_type": "code",
   "execution_count": null,
   "id": "3c78dbde-87cf-4ea6-8a2c-efb8ca5f5c97",
   "metadata": {
    "tags": []
   },
   "outputs": [],
   "source": [
    "l, ps_FLP_2arc= DHOS.statistics.power_spectrum(tfa.image.gaussian_filter2d(m[0],51,sigma=sigma_pix_2ar),field_size,field_npix)\n",
    "l, ps_FLP_3arc= DHOS.statistics.power_spectrum(tfa.image.gaussian_filter2d(m[0],51,sigma=sigma_pix_3ar),field_size,field_npix)"
   ]
  },
  {
   "cell_type": "code",
   "execution_count": null,
   "id": "1cc6c2f7-6c71-4e7e-87bd-38b0e27a2c83",
   "metadata": {
    "tags": []
   },
   "outputs": [],
   "source": [
    "l, ps_TNG_2arc=DHOS.statistics.power_spectrum(tfa.image.gaussian_filter2d(kTNG,51,sigma=sigma_pix_2ar),field_size,field_npix)\n",
    "l, ps_TNG_3arc=DHOS.statistics.power_spectrum(tfa.image.gaussian_filter2d(kTNG,51,sigma=sigma_pix_3ar),field_size,field_npix)"
   ]
  },
  {
   "cell_type": "code",
   "execution_count": null,
   "id": "a19b556b-5cf6-4180-b684-6f26c2e29caf",
   "metadata": {},
   "outputs": [],
   "source": [
    "l, ps_FLP_NOPGD_2arc= DHOS.statistics.power_spectrum(tfa.image.gaussian_filter2d(m1[0],51,sigma=sigma_pix_2ar),field_size,field_npix)\n",
    "l, ps_FLP_NOPGD_3arc= DHOS.statistics.power_spectrum(tfa.image.gaussian_filter2d(m1[0],51,sigma=sigma_pix_3ar),field_size,field_npix)"
   ]
  },
  {
   "cell_type": "code",
   "execution_count": null,
   "id": "35ddd1ba-0992-47ce-b494-4f50183598f8",
   "metadata": {},
   "outputs": [],
   "source": [
    "figure(figsize=[10,5])\n",
    "loglog(l, l*(l+1)*ps_FLP_2arc/(2*np.pi), label='DLL with PGD')\n",
    "loglog(l, l*(l+1)*ps_FLP_NOPGD_2arc/(2*np.pi), label='DLL without PGD')\n",
    "loglog(l, l*(l+1)*ps_TNG_2arc/(2*np.pi), label='$\\kappa$TNG')\n",
    "axvline(3000, ls='--')\n",
    "axvline(300,ls='--')\n",
    "ylim(10e-9,10e-3)\n",
    "xlim(1e2,1e4)\n",
    "ylabel('$\\ell(\\ell+1)C_\\ell /2\\pi$')\n",
    "xlabel('$\\ell$')\n",
    "legend()\n",
    "title('Comparison to $\\kappa$TNG 2 arcmin smoothing')"
   ]
  },
  {
   "cell_type": "code",
   "execution_count": null,
   "id": "74227e5f-0ab2-49cf-b1e6-9d1032d4f8e6",
   "metadata": {},
   "outputs": [],
   "source": [
    "figure(figsize=[10,5])\n",
    "loglog(l, l*(l+1)*ps_FLP_3arc/(2*np.pi), label='DLL with PGD')\n",
    "loglog(l, l*(l+1)*ps_FLP_NOPGD_3arc/(2*np.pi), label='DLL without PGD')\n",
    "loglog(l, l*(l+1)*ps_TNG_3arc/(2*np.pi), label='$\\kappa$TNG')\n",
    "axvline(3000, ls='--')\n",
    "axvline(300,ls='--')\n",
    "ylim(10e-9,10e-3)\n",
    "xlim(1e2,1e4)\n",
    "ylabel('$\\ell(\\ell+1)C_\\ell /2\\pi$')\n",
    "xlabel('$\\ell$')\n",
    "legend()\n",
    "title('Comparison to $\\kappa$TNG 3 arcmin smoothing')"
   ]
  },
  {
   "cell_type": "markdown",
   "id": "23c4d4ec-18f2-46ec-a65a-de530ec7b4b8",
   "metadata": {},
   "source": [
    "## Adding noise\n",
    "\n",
    "We'll now try to get to a realistic setting that matches some of the SRD Y1 settings."
   ]
  },
  {
   "cell_type": "code",
   "execution_count": null,
   "id": "1b614e04-9fb2-45b8-b4fb-8d1f043f5301",
   "metadata": {},
   "outputs": [],
   "source": [
    "knTNG_n = np.load('kappa_tng.npy')+ sigma_e * randn(1024,1024), 5*u.deg\n",
    "knFPM_n = m[0]+ sigma_e * randn(1024,1024), 5*u.deg\n",
    "knFPM_n_NOPGD = m1[0]+ sigma_e * randn(1024,1024), 5*u.deg"
   ]
  },
  {
   "cell_type": "code",
   "execution_count": null,
   "id": "96624dca-28e9-473b-9b9c-3d4c7960e0f6",
   "metadata": {
    "tags": []
   },
   "outputs": [],
   "source": [
    "l, ps_FLP_2ar_n= DHOS.statistics.power_spectrum(tfa.image.gaussian_filter2d(knFPM_n[0],51,sigma=sigma_pix_2ar),field_size,field_npix)\n",
    "l, ps_FLP_3ar_n= DHOS.statistics.power_spectrum(tfa.image.gaussian_filter2d(knFPM_n[0],51,sigma=sigma_pix_3ar),field_size,field_npix)"
   ]
  },
  {
   "cell_type": "code",
   "execution_count": null,
   "id": "0c0f0f6c-29d1-4abd-8f33-2422cd194acb",
   "metadata": {
    "tags": []
   },
   "outputs": [],
   "source": [
    "l, ps_FLP_NOPGD_2ar_n= DHOS.statistics.power_spectrum(tfa.image.gaussian_filter2d(knFPM_n_NOPGD[0],51,sigma=sigma_pix_2ar),field_size,field_npix)\n",
    "l, ps_FLP_NOPGD_3ar_n= DHOS.statistics.power_spectrum(tfa.image.gaussian_filter2d(knFPM_n_NOPGD[0],51,sigma=sigma_pix_3ar),field_size,field_npix)"
   ]
  },
  {
   "cell_type": "code",
   "execution_count": null,
   "id": "241654c0-0e8b-41aa-8080-a86f1f0f2c90",
   "metadata": {
    "tags": []
   },
   "outputs": [],
   "source": [
    "l, ps_TNG_2ar_n=DHOS.statistics.power_spectrum(tfa.image.gaussian_filter2d(knTNG_n[0],51,sigma=sigma_pix_2ar),field_size,field_npix)\n",
    "l, ps_TNG_3ar_n=DHOS.statistics.power_spectrum(tfa.image.gaussian_filter2d(knTNG_n[0],51,sigma=sigma_pix_3ar),field_size,field_npix)"
   ]
  },
  {
   "cell_type": "code",
   "execution_count": null,
   "id": "89757767-ca38-4fb7-a30d-0fd73f8b0c57",
   "metadata": {},
   "outputs": [],
   "source": [
    "figure(figsize=[10,5])\n",
    "loglog(l, l*(l+1)*ps_FLP_2ar_n/(2*np.pi), label='DLL with PGD')\n",
    "loglog(l, l*(l+1)*ps_FLP_NOPGD_2ar_n/(2*np.pi), label='DLL without PGD')\n",
    "loglog(l, l*(l+1)*ps_TNG_2ar_n/(2*np.pi), label='$\\kappa$TNG')\n",
    "axvline(3000, ls='--')\n",
    "axvline(300,ls='--')\n",
    "ylim(10e-9,10e-3)\n",
    "xlim(1e2,1e4)\n",
    "ylabel('$\\ell(\\ell+1)C_\\ell /2\\pi$')\n",
    "xlabel('$\\ell$')\n",
    "legend()\n",
    "title('Comparison to $\\kappa$TNG 2 arcmin smoothing and noise')"
   ]
  },
  {
   "cell_type": "code",
   "execution_count": null,
   "id": "78fa4f61-9d20-4327-8d19-0452525f8a70",
   "metadata": {},
   "outputs": [],
   "source": [
    "figure(figsize=[10,5])\n",
    "loglog(l, l*(l+1)*ps_FLP_3ar_n/(2*np.pi), label='DLL with PGD')\n",
    "loglog(l, l*(l+1)*ps_FLP_NOPGD_3ar_n/(2*np.pi), label='DLL without PGD')\n",
    "loglog(l, l*(l+1)*ps_TNG_3ar_n/(2*np.pi), label='$\\kappa$TNG')\n",
    "axvline(3000, ls='--')\n",
    "axvline(300,ls='--')\n",
    "ylim(10e-9,10e-3)\n",
    "xlim(1e2,1e4)\n",
    "ylabel('$\\ell(\\ell+1)C_\\ell /2\\pi$')\n",
    "xlabel('$\\ell$')\n",
    "legend()\n",
    "title('Comparison to $\\kappa$TNG 3 arcmin smoothing and noise')"
   ]
  },
  {
   "cell_type": "code",
   "execution_count": null,
   "id": "1ee75688-fd49-4a8b-a1b7-36ffe3737f73",
   "metadata": {},
   "outputs": [],
   "source": []
  }
 ],
 "metadata": {
  "kernelspec": {
   "display_name": "tfpython",
   "language": "python",
   "name": "tfpython"
  },
  "language_info": {
   "codemirror_mode": {
    "name": "ipython",
    "version": 3
   },
   "file_extension": ".py",
   "mimetype": "text/x-python",
   "name": "python",
   "nbconvert_exporter": "python",
   "pygments_lexer": "ipython3",
   "version": "3.8.5"
  }
 },
 "nbformat": 4,
 "nbformat_minor": 5
}
